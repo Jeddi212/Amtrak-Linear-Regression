{
 "cells": [
  {
   "cell_type": "markdown",
   "metadata": {},
   "source": [
    "# Tugas Week 2\n",
    "\n",
    "### 1119007 - Timothy Ray &nbsp;&nbsp;&nbsp;&nbsp; 1119023 - Jedediah Fanuel &nbsp;&nbsp;&nbsp;&nbsp; 1119033 - Fedly Septian"
   ]
  },
  {
   "cell_type": "code",
   "execution_count": 799,
   "metadata": {},
   "outputs": [],
   "source": [
    "import numpy as np\n",
    "import pandas as pd\n",
    "import matplotlib.pyplot as plt\n",
    "import seaborn as sns\n",
    "sns.set()\n",
    "from scipy import stats"
   ]
  },
  {
   "cell_type": "markdown",
   "metadata": {},
   "source": [
    "## Get The Data"
   ]
  },
  {
   "cell_type": "code",
   "execution_count": 800,
   "metadata": {},
   "outputs": [
    {
     "name": "stdout",
     "output_type": "stream",
     "text": [
      "(33, 8)\n"
     ]
    }
   ],
   "source": [
    "vehicles_df = pd.read_csv(\"Amtrak Passenger Rail Fuel Consumption and Travel.csv\")\n",
    "print(vehicles_df.shape)"
   ]
  },
  {
   "cell_type": "code",
   "execution_count": 801,
   "metadata": {},
   "outputs": [
    {
     "data": {
      "text/html": [
       "<div>\n",
       "<style scoped>\n",
       "    .dataframe tbody tr th:only-of-type {\n",
       "        vertical-align: middle;\n",
       "    }\n",
       "\n",
       "    .dataframe tbody tr th {\n",
       "        vertical-align: top;\n",
       "    }\n",
       "\n",
       "    .dataframe thead th {\n",
       "        text-align: right;\n",
       "    }\n",
       "</style>\n",
       "<table border=\"1\" class=\"dataframe\">\n",
       "  <thead>\n",
       "    <tr style=\"text-align: right;\">\n",
       "      <th></th>\n",
       "      <th>Year</th>\n",
       "      <th>Number_Of_Locomotives_In_Use</th>\n",
       "      <th>Number_Of_Cars_In_Use</th>\n",
       "      <th>Million_Miles_Traveled_By_Train</th>\n",
       "      <th>Million_Miles_Traveled_By_Car</th>\n",
       "      <th>Electric_Energy_Consumption_By_Train_In_Million_Kilowatthours</th>\n",
       "      <th>Diesel_Energy_Consumption_By_Train_In_Million_Gallons</th>\n",
       "      <th>Average_Miles_Traveled_Per_Car_In_Thousands</th>\n",
       "    </tr>\n",
       "  </thead>\n",
       "  <tbody>\n",
       "    <tr>\n",
       "      <th>0</th>\n",
       "      <td>1975</td>\n",
       "      <td>355</td>\n",
       "      <td>1913</td>\n",
       "      <td>30</td>\n",
       "      <td>253</td>\n",
       "      <td>180</td>\n",
       "      <td>63</td>\n",
       "      <td>132</td>\n",
       "    </tr>\n",
       "    <tr>\n",
       "      <th>1</th>\n",
       "      <td>1980</td>\n",
       "      <td>419</td>\n",
       "      <td>2128</td>\n",
       "      <td>30</td>\n",
       "      <td>235</td>\n",
       "      <td>254</td>\n",
       "      <td>64</td>\n",
       "      <td>110</td>\n",
       "    </tr>\n",
       "    <tr>\n",
       "      <th>2</th>\n",
       "      <td>1985</td>\n",
       "      <td>291</td>\n",
       "      <td>1854</td>\n",
       "      <td>30</td>\n",
       "      <td>251</td>\n",
       "      <td>295</td>\n",
       "      <td>65</td>\n",
       "      <td>135</td>\n",
       "    </tr>\n",
       "    <tr>\n",
       "      <th>3</th>\n",
       "      <td>1990</td>\n",
       "      <td>318</td>\n",
       "      <td>1863</td>\n",
       "      <td>33</td>\n",
       "      <td>301</td>\n",
       "      <td>330</td>\n",
       "      <td>82</td>\n",
       "      <td>162</td>\n",
       "    </tr>\n",
       "    <tr>\n",
       "      <th>4</th>\n",
       "      <td>1991</td>\n",
       "      <td>316</td>\n",
       "      <td>1786</td>\n",
       "      <td>34</td>\n",
       "      <td>313</td>\n",
       "      <td>303</td>\n",
       "      <td>82</td>\n",
       "      <td>175</td>\n",
       "    </tr>\n",
       "    <tr>\n",
       "      <th>5</th>\n",
       "      <td>1992</td>\n",
       "      <td>336</td>\n",
       "      <td>1796</td>\n",
       "      <td>34</td>\n",
       "      <td>307</td>\n",
       "      <td>300</td>\n",
       "      <td>82</td>\n",
       "      <td>171</td>\n",
       "    </tr>\n",
       "    <tr>\n",
       "      <th>6</th>\n",
       "      <td>1993</td>\n",
       "      <td>360</td>\n",
       "      <td>1853</td>\n",
       "      <td>35</td>\n",
       "      <td>303</td>\n",
       "      <td>301</td>\n",
       "      <td>83</td>\n",
       "      <td>164</td>\n",
       "    </tr>\n",
       "    <tr>\n",
       "      <th>7</th>\n",
       "      <td>1994</td>\n",
       "      <td>338</td>\n",
       "      <td>1852</td>\n",
       "      <td>34</td>\n",
       "      <td>304</td>\n",
       "      <td>309</td>\n",
       "      <td>74</td>\n",
       "      <td>164</td>\n",
       "    </tr>\n",
       "    <tr>\n",
       "      <th>8</th>\n",
       "      <td>1995</td>\n",
       "      <td>313</td>\n",
       "      <td>1722</td>\n",
       "      <td>32</td>\n",
       "      <td>292</td>\n",
       "      <td>336</td>\n",
       "      <td>72</td>\n",
       "      <td>170</td>\n",
       "    </tr>\n",
       "    <tr>\n",
       "      <th>9</th>\n",
       "      <td>1996</td>\n",
       "      <td>299</td>\n",
       "      <td>1730</td>\n",
       "      <td>30</td>\n",
       "      <td>276</td>\n",
       "      <td>363</td>\n",
       "      <td>71</td>\n",
       "      <td>160</td>\n",
       "    </tr>\n",
       "  </tbody>\n",
       "</table>\n",
       "</div>"
      ],
      "text/plain": [
       "   Year  Number_Of_Locomotives_In_Use  Number_Of_Cars_In_Use  \\\n",
       "0  1975                           355                   1913   \n",
       "1  1980                           419                   2128   \n",
       "2  1985                           291                   1854   \n",
       "3  1990                           318                   1863   \n",
       "4  1991                           316                   1786   \n",
       "5  1992                           336                   1796   \n",
       "6  1993                           360                   1853   \n",
       "7  1994                           338                   1852   \n",
       "8  1995                           313                   1722   \n",
       "9  1996                           299                   1730   \n",
       "\n",
       "   Million_Miles_Traveled_By_Train  Million_Miles_Traveled_By_Car  \\\n",
       "0                               30                            253   \n",
       "1                               30                            235   \n",
       "2                               30                            251   \n",
       "3                               33                            301   \n",
       "4                               34                            313   \n",
       "5                               34                            307   \n",
       "6                               35                            303   \n",
       "7                               34                            304   \n",
       "8                               32                            292   \n",
       "9                               30                            276   \n",
       "\n",
       "   Electric_Energy_Consumption_By_Train_In_Million_Kilowatthours  \\\n",
       "0                                                180               \n",
       "1                                                254               \n",
       "2                                                295               \n",
       "3                                                330               \n",
       "4                                                303               \n",
       "5                                                300               \n",
       "6                                                301               \n",
       "7                                                309               \n",
       "8                                                336               \n",
       "9                                                363               \n",
       "\n",
       "   Diesel_Energy_Consumption_By_Train_In_Million_Gallons  \\\n",
       "0                                                 63       \n",
       "1                                                 64       \n",
       "2                                                 65       \n",
       "3                                                 82       \n",
       "4                                                 82       \n",
       "5                                                 82       \n",
       "6                                                 83       \n",
       "7                                                 74       \n",
       "8                                                 72       \n",
       "9                                                 71       \n",
       "\n",
       "   Average_Miles_Traveled_Per_Car_In_Thousands  \n",
       "0                                          132  \n",
       "1                                          110  \n",
       "2                                          135  \n",
       "3                                          162  \n",
       "4                                          175  \n",
       "5                                          171  \n",
       "6                                          164  \n",
       "7                                          164  \n",
       "8                                          170  \n",
       "9                                          160  "
      ]
     },
     "execution_count": 801,
     "metadata": {},
     "output_type": "execute_result"
    }
   ],
   "source": [
    "vehicles_df.head(10)"
   ]
  },
  {
   "cell_type": "markdown",
   "metadata": {},
   "source": [
    "<hr>\n",
    "\n",
    "## Missing Value"
   ]
  },
  {
   "cell_type": "code",
   "execution_count": 802,
   "metadata": {},
   "outputs": [
    {
     "name": "stdout",
     "output_type": "stream",
     "text": [
      "null values: \n",
      "\n",
      "     Year  Number_Of_Locomotives_In_Use  Number_Of_Cars_In_Use  \\\n",
      "0   False                         False                  False   \n",
      "1   False                         False                  False   \n",
      "2   False                         False                  False   \n",
      "3   False                         False                  False   \n",
      "4   False                         False                  False   \n",
      "5   False                         False                  False   \n",
      "6   False                         False                  False   \n",
      "7   False                         False                  False   \n",
      "8   False                         False                  False   \n",
      "9   False                         False                  False   \n",
      "10  False                         False                  False   \n",
      "11  False                         False                  False   \n",
      "12  False                         False                  False   \n",
      "13  False                         False                  False   \n",
      "14  False                         False                  False   \n",
      "15  False                         False                  False   \n",
      "16  False                         False                  False   \n",
      "17  False                         False                  False   \n",
      "18  False                         False                  False   \n",
      "19  False                         False                  False   \n",
      "20  False                         False                  False   \n",
      "21  False                         False                  False   \n",
      "22  False                         False                  False   \n",
      "23  False                         False                  False   \n",
      "24  False                         False                  False   \n",
      "25  False                         False                  False   \n",
      "26  False                         False                  False   \n",
      "27  False                         False                  False   \n",
      "28  False                         False                  False   \n",
      "29  False                         False                  False   \n",
      "30  False                         False                  False   \n",
      "31  False                         False                  False   \n",
      "32  False                         False                  False   \n",
      "\n",
      "    Million_Miles_Traveled_By_Train  Million_Miles_Traveled_By_Car  \\\n",
      "0                             False                          False   \n",
      "1                             False                          False   \n",
      "2                             False                          False   \n",
      "3                             False                          False   \n",
      "4                             False                          False   \n",
      "5                             False                          False   \n",
      "6                             False                          False   \n",
      "7                             False                          False   \n",
      "8                             False                          False   \n",
      "9                             False                          False   \n",
      "10                            False                          False   \n",
      "11                            False                          False   \n",
      "12                            False                          False   \n",
      "13                            False                          False   \n",
      "14                            False                          False   \n",
      "15                            False                          False   \n",
      "16                            False                          False   \n",
      "17                            False                          False   \n",
      "18                            False                          False   \n",
      "19                            False                          False   \n",
      "20                            False                          False   \n",
      "21                            False                          False   \n",
      "22                            False                          False   \n",
      "23                            False                          False   \n",
      "24                            False                          False   \n",
      "25                            False                          False   \n",
      "26                            False                          False   \n",
      "27                            False                          False   \n",
      "28                            False                          False   \n",
      "29                            False                          False   \n",
      "30                            False                          False   \n",
      "31                            False                          False   \n",
      "32                            False                          False   \n",
      "\n",
      "    Electric_Energy_Consumption_By_Train_In_Million_Kilowatthours  \\\n",
      "0                                               False               \n",
      "1                                               False               \n",
      "2                                               False               \n",
      "3                                               False               \n",
      "4                                               False               \n",
      "5                                               False               \n",
      "6                                               False               \n",
      "7                                               False               \n",
      "8                                               False               \n",
      "9                                               False               \n",
      "10                                              False               \n",
      "11                                              False               \n",
      "12                                              False               \n",
      "13                                              False               \n",
      "14                                              False               \n",
      "15                                              False               \n",
      "16                                              False               \n",
      "17                                              False               \n",
      "18                                              False               \n",
      "19                                              False               \n",
      "20                                              False               \n",
      "21                                              False               \n",
      "22                                              False               \n",
      "23                                              False               \n",
      "24                                              False               \n",
      "25                                              False               \n",
      "26                                              False               \n",
      "27                                              False               \n",
      "28                                              False               \n",
      "29                                              False               \n",
      "30                                              False               \n",
      "31                                              False               \n",
      "32                                              False               \n",
      "\n",
      "    Diesel_Energy_Consumption_By_Train_In_Million_Gallons  \\\n",
      "0                                               False       \n",
      "1                                               False       \n",
      "2                                               False       \n",
      "3                                               False       \n",
      "4                                               False       \n",
      "5                                               False       \n",
      "6                                               False       \n",
      "7                                               False       \n",
      "8                                               False       \n",
      "9                                               False       \n",
      "10                                              False       \n",
      "11                                              False       \n",
      "12                                              False       \n",
      "13                                              False       \n",
      "14                                              False       \n",
      "15                                              False       \n",
      "16                                              False       \n",
      "17                                              False       \n",
      "18                                              False       \n",
      "19                                              False       \n",
      "20                                              False       \n",
      "21                                              False       \n",
      "22                                              False       \n",
      "23                                              False       \n",
      "24                                              False       \n",
      "25                                              False       \n",
      "26                                              False       \n",
      "27                                              False       \n",
      "28                                              False       \n",
      "29                                              False       \n",
      "30                                              False       \n",
      "31                                              False       \n",
      "32                                              False       \n",
      "\n",
      "    Average_Miles_Traveled_Per_Car_In_Thousands  \n",
      "0                                         False  \n",
      "1                                         False  \n",
      "2                                         False  \n",
      "3                                         False  \n",
      "4                                         False  \n",
      "5                                         False  \n",
      "6                                         False  \n",
      "7                                         False  \n",
      "8                                         False  \n",
      "9                                         False  \n",
      "10                                        False  \n",
      "11                                        False  \n",
      "12                                        False  \n",
      "13                                        False  \n",
      "14                                        False  \n",
      "15                                        False  \n",
      "16                                        False  \n",
      "17                                        False  \n",
      "18                                        False  \n",
      "19                                        False  \n",
      "20                                        False  \n",
      "21                                        False  \n",
      "22                                        False  \n",
      "23                                        False  \n",
      "24                                        False  \n",
      "25                                        False  \n",
      "26                                        False  \n",
      "27                                        False  \n",
      "28                                        False  \n",
      "29                                        False  \n",
      "30                                        False  \n",
      "31                                        False  \n",
      "32                                        False  \n"
     ]
    }
   ],
   "source": [
    "print(\"null values: \\n\")\n",
    "print(vehicles_df.isna())"
   ]
  },
  {
   "cell_type": "code",
   "execution_count": 803,
   "metadata": {
    "scrolled": true
   },
   "outputs": [
    {
     "name": "stdout",
     "output_type": "stream",
     "text": [
      "total null values:  0\n"
     ]
    }
   ],
   "source": [
    "print(\"total null values: \", vehicles_df.isna().sum().sum())"
   ]
  },
  {
   "cell_type": "markdown",
   "metadata": {},
   "source": [
    "Dapat dilihat bahwa dataset yang digunakan sudah terbebas dari *missing value*."
   ]
  },
  {
   "cell_type": "markdown",
   "metadata": {},
   "source": [
    "## Duplicate Data"
   ]
  },
  {
   "cell_type": "code",
   "execution_count": 804,
   "metadata": {},
   "outputs": [
    {
     "name": "stdout",
     "output_type": "stream",
     "text": [
      "number of duplicate rows:  (0, 8)\n"
     ]
    }
   ],
   "source": [
    "duplicate_rows_df = vehicles_df[vehicles_df.duplicated()]\n",
    "print(\"number of duplicate rows: \", duplicate_rows_df.shape)"
   ]
  },
  {
   "cell_type": "markdown",
   "metadata": {},
   "source": [
    "Begitu pula dengan *duplicate data*. Tidak terdapat data duplikat pada dataset ini."
   ]
  },
  {
   "cell_type": "markdown",
   "metadata": {},
   "source": [
    "<hr>\n",
    "\n",
    "## Outliers"
   ]
  },
  {
   "cell_type": "code",
   "execution_count": 805,
   "metadata": {},
   "outputs": [
    {
     "data": {
      "text/html": [
       "<div>\n",
       "<style scoped>\n",
       "    .dataframe tbody tr th:only-of-type {\n",
       "        vertical-align: middle;\n",
       "    }\n",
       "\n",
       "    .dataframe tbody tr th {\n",
       "        vertical-align: top;\n",
       "    }\n",
       "\n",
       "    .dataframe thead th {\n",
       "        text-align: right;\n",
       "    }\n",
       "</style>\n",
       "<table border=\"1\" class=\"dataframe\">\n",
       "  <thead>\n",
       "    <tr style=\"text-align: right;\">\n",
       "      <th></th>\n",
       "      <th>Year</th>\n",
       "      <th>Number_Of_Locomotives_In_Use</th>\n",
       "      <th>Number_Of_Cars_In_Use</th>\n",
       "      <th>Million_Miles_Traveled_By_Train</th>\n",
       "      <th>Million_Miles_Traveled_By_Car</th>\n",
       "      <th>Electric_Energy_Consumption_By_Train_In_Million_Kilowatthours</th>\n",
       "      <th>Diesel_Energy_Consumption_By_Train_In_Million_Gallons</th>\n",
       "      <th>Average_Miles_Traveled_Per_Car_In_Thousands</th>\n",
       "    </tr>\n",
       "  </thead>\n",
       "  <tbody>\n",
       "    <tr>\n",
       "      <th>count</th>\n",
       "      <td>33.00</td>\n",
       "      <td>33.00</td>\n",
       "      <td>33.00</td>\n",
       "      <td>33.00</td>\n",
       "      <td>33.00</td>\n",
       "      <td>33.00</td>\n",
       "      <td>33.00</td>\n",
       "      <td>33.00</td>\n",
       "    </tr>\n",
       "    <tr>\n",
       "      <th>mean</th>\n",
       "      <td>2002.27</td>\n",
       "      <td>352.39</td>\n",
       "      <td>1648.58</td>\n",
       "      <td>35.36</td>\n",
       "      <td>301.70</td>\n",
       "      <td>446.64</td>\n",
       "      <td>70.85</td>\n",
       "      <td>190.18</td>\n",
       "    </tr>\n",
       "    <tr>\n",
       "      <th>std</th>\n",
       "      <td>11.09</td>\n",
       "      <td>62.27</td>\n",
       "      <td>381.06</td>\n",
       "      <td>2.78</td>\n",
       "      <td>34.50</td>\n",
       "      <td>111.94</td>\n",
       "      <td>9.93</td>\n",
       "      <td>37.40</td>\n",
       "    </tr>\n",
       "    <tr>\n",
       "      <th>min</th>\n",
       "      <td>1975.00</td>\n",
       "      <td>258.00</td>\n",
       "      <td>1164.00</td>\n",
       "      <td>30.00</td>\n",
       "      <td>235.00</td>\n",
       "      <td>180.00</td>\n",
       "      <td>60.00</td>\n",
       "      <td>110.00</td>\n",
       "    </tr>\n",
       "    <tr>\n",
       "      <th>25%</th>\n",
       "      <td>1995.00</td>\n",
       "      <td>299.00</td>\n",
       "      <td>1402.00</td>\n",
       "      <td>34.00</td>\n",
       "      <td>276.00</td>\n",
       "      <td>336.00</td>\n",
       "      <td>63.00</td>\n",
       "      <td>164.00</td>\n",
       "    </tr>\n",
       "    <tr>\n",
       "      <th>50%</th>\n",
       "      <td>2003.00</td>\n",
       "      <td>338.00</td>\n",
       "      <td>1722.00</td>\n",
       "      <td>36.00</td>\n",
       "      <td>303.00</td>\n",
       "      <td>485.00</td>\n",
       "      <td>66.00</td>\n",
       "      <td>194.00</td>\n",
       "    </tr>\n",
       "    <tr>\n",
       "      <th>75%</th>\n",
       "      <td>2011.00</td>\n",
       "      <td>418.00</td>\n",
       "      <td>1863.00</td>\n",
       "      <td>38.00</td>\n",
       "      <td>319.00</td>\n",
       "      <td>537.00</td>\n",
       "      <td>76.00</td>\n",
       "      <td>225.00</td>\n",
       "    </tr>\n",
       "    <tr>\n",
       "      <th>max</th>\n",
       "      <td>2019.00</td>\n",
       "      <td>485.00</td>\n",
       "      <td>2896.00</td>\n",
       "      <td>38.00</td>\n",
       "      <td>379.00</td>\n",
       "      <td>582.00</td>\n",
       "      <td>97.00</td>\n",
       "      <td>255.00</td>\n",
       "    </tr>\n",
       "  </tbody>\n",
       "</table>\n",
       "</div>"
      ],
      "text/plain": [
       "         Year  Number_Of_Locomotives_In_Use  Number_Of_Cars_In_Use  \\\n",
       "count   33.00                         33.00                  33.00   \n",
       "mean  2002.27                        352.39                1648.58   \n",
       "std     11.09                         62.27                 381.06   \n",
       "min   1975.00                        258.00                1164.00   \n",
       "25%   1995.00                        299.00                1402.00   \n",
       "50%   2003.00                        338.00                1722.00   \n",
       "75%   2011.00                        418.00                1863.00   \n",
       "max   2019.00                        485.00                2896.00   \n",
       "\n",
       "       Million_Miles_Traveled_By_Train  Million_Miles_Traveled_By_Car  \\\n",
       "count                            33.00                          33.00   \n",
       "mean                             35.36                         301.70   \n",
       "std                               2.78                          34.50   \n",
       "min                              30.00                         235.00   \n",
       "25%                              34.00                         276.00   \n",
       "50%                              36.00                         303.00   \n",
       "75%                              38.00                         319.00   \n",
       "max                              38.00                         379.00   \n",
       "\n",
       "       Electric_Energy_Consumption_By_Train_In_Million_Kilowatthours  \\\n",
       "count                                              33.00               \n",
       "mean                                              446.64               \n",
       "std                                               111.94               \n",
       "min                                               180.00               \n",
       "25%                                               336.00               \n",
       "50%                                               485.00               \n",
       "75%                                               537.00               \n",
       "max                                               582.00               \n",
       "\n",
       "       Diesel_Energy_Consumption_By_Train_In_Million_Gallons  \\\n",
       "count                                              33.00       \n",
       "mean                                               70.85       \n",
       "std                                                 9.93       \n",
       "min                                                60.00       \n",
       "25%                                                63.00       \n",
       "50%                                                66.00       \n",
       "75%                                                76.00       \n",
       "max                                                97.00       \n",
       "\n",
       "       Average_Miles_Traveled_Per_Car_In_Thousands  \n",
       "count                                        33.00  \n",
       "mean                                        190.18  \n",
       "std                                          37.40  \n",
       "min                                         110.00  \n",
       "25%                                         164.00  \n",
       "50%                                         194.00  \n",
       "75%                                         225.00  \n",
       "max                                         255.00  "
      ]
     },
     "execution_count": 805,
     "metadata": {},
     "output_type": "execute_result"
    }
   ],
   "source": [
    "vehicles_df.describe()"
   ]
  },
  {
   "cell_type": "markdown",
   "metadata": {},
   "source": [
    "Jika dilihat dari jarak data dari max value sampai 75%, variable 'Number_Of_Cars_In_Use' menunjukkan karakteristik outliers. Mari kita coba plot seperti apa bentuknya."
   ]
  },
  {
   "cell_type": "code",
   "execution_count": 806,
   "metadata": {},
   "outputs": [
    {
     "data": {
      "image/png": "[encoded data removed]",
      "text/plain": [
       "<Figure size 432x288 with 1 Axes>"
      ]
     },
     "metadata": {},
     "output_type": "display_data"
    }
   ],
   "source": [
    "sns.boxplot(x=vehicles_df['Number_Of_Cars_In_Use'], color='lime')\n",
    "plt.xlabel('No. of Cars in Use', fontsize=14)\n",
    "plt.show()"
   ]
  },
  {
   "cell_type": "markdown",
   "metadata": {},
   "source": [
    "Seperti yang diduga, terdapat outliers. Mari kita bersihkan.\n",
    "\n",
    "#### Insight\n",
    "\n",
    "Terlihat sepertinya terdapat hanya 1 buah data outliers."
   ]
  },
  {
   "cell_type": "code",
   "execution_count": 807,
   "metadata": {},
   "outputs": [],
   "source": [
    "vehicles_cleaned_df=vehicles_df[vehicles_df['Number_Of_Cars_In_Use']<2750]"
   ]
  },
  {
   "cell_type": "code",
   "execution_count": 808,
   "metadata": {},
   "outputs": [
    {
     "data": {
      "image/png": "[encoded data removed]",
      "text/plain": [
       "<Figure size 432x288 with 1 Axes>"
      ]
     },
     "metadata": {},
     "output_type": "display_data"
    }
   ],
   "source": [
    "sns.boxplot(x=vehicles_cleaned_df['Number_Of_Cars_In_Use'], color='lime')\n",
    "plt.xlabel('No. of Cars in Use', fontsize=14)\n",
    "plt.show()"
   ]
  },
  {
   "cell_type": "code",
   "execution_count": 809,
   "metadata": {},
   "outputs": [
    {
     "name": "stdout",
     "output_type": "stream",
     "text": [
      "(32, 8)\n"
     ]
    }
   ],
   "source": [
    "print(vehicles_cleaned_df.shape)"
   ]
  },
  {
   "cell_type": "markdown",
   "metadata": {},
   "source": [
    "#### Insight\n",
    "\n",
    "Benar adanya bahwa 1 data outliers saja.\n",
    "\n",
    "Coba kita gunakan Z-Score"
   ]
  },
  {
   "cell_type": "code",
   "execution_count": 810,
   "metadata": {},
   "outputs": [
    {
     "name": "stdout",
     "output_type": "stream",
     "text": [
      "Shape after rejecting outliers:  (32, 8)\n"
     ]
    }
   ],
   "source": [
    "vehicles_cleaned_df = vehicles_cleaned_df[(np.abs(stats.zscore(vehicles_cleaned_df)) < 3).all(axis=1)]\n",
    "print(\"Shape after rejecting outliers: \", vehicles_cleaned_df.shape)"
   ]
  },
  {
   "cell_type": "markdown",
   "metadata": {},
   "source": [
    "Ternyata memang tidak ada perubahan lebih lanjut."
   ]
  },
  {
   "cell_type": "markdown",
   "metadata": {},
   "source": [
    "<hr>\n",
    "\n",
    "\n",
    "# Examining Assumptions"
   ]
  },
  {
   "cell_type": "markdown",
   "metadata": {},
   "source": [
    "## Check Linearity with Scatterplot"
   ]
  },
  {
   "cell_type": "code",
   "execution_count": 811,
   "metadata": {},
   "outputs": [
    {
     "data": {
      "text/html": [
       "<div>\n",
       "<style scoped>\n",
       "    .dataframe tbody tr th:only-of-type {\n",
       "        vertical-align: middle;\n",
       "    }\n",
       "\n",
       "    .dataframe tbody tr th {\n",
       "        vertical-align: top;\n",
       "    }\n",
       "\n",
       "    .dataframe thead th {\n",
       "        text-align: right;\n",
       "    }\n",
       "</style>\n",
       "<table border=\"1\" class=\"dataframe\">\n",
       "  <thead>\n",
       "    <tr style=\"text-align: right;\">\n",
       "      <th></th>\n",
       "      <th>Year</th>\n",
       "      <th>Number_Of_Locomotives_In_Use</th>\n",
       "      <th>Number_Of_Cars_In_Use</th>\n",
       "      <th>Million_Miles_Traveled_By_Train</th>\n",
       "      <th>Million_Miles_Traveled_By_Car</th>\n",
       "      <th>Electric_Energy_Consumption_By_Train_In_Million_Kilowatthours</th>\n",
       "      <th>Diesel_Energy_Consumption_By_Train_In_Million_Gallons</th>\n",
       "      <th>Average_Miles_Traveled_Per_Car_In_Thousands</th>\n",
       "    </tr>\n",
       "  </thead>\n",
       "  <tbody>\n",
       "    <tr>\n",
       "      <th>0</th>\n",
       "      <td>1975</td>\n",
       "      <td>355</td>\n",
       "      <td>1913</td>\n",
       "      <td>30</td>\n",
       "      <td>253</td>\n",
       "      <td>180</td>\n",
       "      <td>63</td>\n",
       "      <td>132</td>\n",
       "    </tr>\n",
       "    <tr>\n",
       "      <th>1</th>\n",
       "      <td>1980</td>\n",
       "      <td>419</td>\n",
       "      <td>2128</td>\n",
       "      <td>30</td>\n",
       "      <td>235</td>\n",
       "      <td>254</td>\n",
       "      <td>64</td>\n",
       "      <td>110</td>\n",
       "    </tr>\n",
       "    <tr>\n",
       "      <th>2</th>\n",
       "      <td>1985</td>\n",
       "      <td>291</td>\n",
       "      <td>1854</td>\n",
       "      <td>30</td>\n",
       "      <td>251</td>\n",
       "      <td>295</td>\n",
       "      <td>65</td>\n",
       "      <td>135</td>\n",
       "    </tr>\n",
       "    <tr>\n",
       "      <th>3</th>\n",
       "      <td>1990</td>\n",
       "      <td>318</td>\n",
       "      <td>1863</td>\n",
       "      <td>33</td>\n",
       "      <td>301</td>\n",
       "      <td>330</td>\n",
       "      <td>82</td>\n",
       "      <td>162</td>\n",
       "    </tr>\n",
       "    <tr>\n",
       "      <th>4</th>\n",
       "      <td>1991</td>\n",
       "      <td>316</td>\n",
       "      <td>1786</td>\n",
       "      <td>34</td>\n",
       "      <td>313</td>\n",
       "      <td>303</td>\n",
       "      <td>82</td>\n",
       "      <td>175</td>\n",
       "    </tr>\n",
       "    <tr>\n",
       "      <th>5</th>\n",
       "      <td>1992</td>\n",
       "      <td>336</td>\n",
       "      <td>1796</td>\n",
       "      <td>34</td>\n",
       "      <td>307</td>\n",
       "      <td>300</td>\n",
       "      <td>82</td>\n",
       "      <td>171</td>\n",
       "    </tr>\n",
       "    <tr>\n",
       "      <th>6</th>\n",
       "      <td>1993</td>\n",
       "      <td>360</td>\n",
       "      <td>1853</td>\n",
       "      <td>35</td>\n",
       "      <td>303</td>\n",
       "      <td>301</td>\n",
       "      <td>83</td>\n",
       "      <td>164</td>\n",
       "    </tr>\n",
       "    <tr>\n",
       "      <th>7</th>\n",
       "      <td>1994</td>\n",
       "      <td>338</td>\n",
       "      <td>1852</td>\n",
       "      <td>34</td>\n",
       "      <td>304</td>\n",
       "      <td>309</td>\n",
       "      <td>74</td>\n",
       "      <td>164</td>\n",
       "    </tr>\n",
       "    <tr>\n",
       "      <th>8</th>\n",
       "      <td>1995</td>\n",
       "      <td>313</td>\n",
       "      <td>1722</td>\n",
       "      <td>32</td>\n",
       "      <td>292</td>\n",
       "      <td>336</td>\n",
       "      <td>72</td>\n",
       "      <td>170</td>\n",
       "    </tr>\n",
       "    <tr>\n",
       "      <th>9</th>\n",
       "      <td>1996</td>\n",
       "      <td>299</td>\n",
       "      <td>1730</td>\n",
       "      <td>30</td>\n",
       "      <td>276</td>\n",
       "      <td>363</td>\n",
       "      <td>71</td>\n",
       "      <td>160</td>\n",
       "    </tr>\n",
       "  </tbody>\n",
       "</table>\n",
       "</div>"
      ],
      "text/plain": [
       "   Year  Number_Of_Locomotives_In_Use  Number_Of_Cars_In_Use  \\\n",
       "0  1975                           355                   1913   \n",
       "1  1980                           419                   2128   \n",
       "2  1985                           291                   1854   \n",
       "3  1990                           318                   1863   \n",
       "4  1991                           316                   1786   \n",
       "5  1992                           336                   1796   \n",
       "6  1993                           360                   1853   \n",
       "7  1994                           338                   1852   \n",
       "8  1995                           313                   1722   \n",
       "9  1996                           299                   1730   \n",
       "\n",
       "   Million_Miles_Traveled_By_Train  Million_Miles_Traveled_By_Car  \\\n",
       "0                               30                            253   \n",
       "1                               30                            235   \n",
       "2                               30                            251   \n",
       "3                               33                            301   \n",
       "4                               34                            313   \n",
       "5                               34                            307   \n",
       "6                               35                            303   \n",
       "7                               34                            304   \n",
       "8                               32                            292   \n",
       "9                               30                            276   \n",
       "\n",
       "   Electric_Energy_Consumption_By_Train_In_Million_Kilowatthours  \\\n",
       "0                                                180               \n",
       "1                                                254               \n",
       "2                                                295               \n",
       "3                                                330               \n",
       "4                                                303               \n",
       "5                                                300               \n",
       "6                                                301               \n",
       "7                                                309               \n",
       "8                                                336               \n",
       "9                                                363               \n",
       "\n",
       "   Diesel_Energy_Consumption_By_Train_In_Million_Gallons  \\\n",
       "0                                                 63       \n",
       "1                                                 64       \n",
       "2                                                 65       \n",
       "3                                                 82       \n",
       "4                                                 82       \n",
       "5                                                 82       \n",
       "6                                                 83       \n",
       "7                                                 74       \n",
       "8                                                 72       \n",
       "9                                                 71       \n",
       "\n",
       "   Average_Miles_Traveled_Per_Car_In_Thousands  \n",
       "0                                          132  \n",
       "1                                          110  \n",
       "2                                          135  \n",
       "3                                          162  \n",
       "4                                          175  \n",
       "5                                          171  \n",
       "6                                          164  \n",
       "7                                          164  \n",
       "8                                          170  \n",
       "9                                          160  "
      ]
     },
     "execution_count": 811,
     "metadata": {},
     "output_type": "execute_result"
    }
   ],
   "source": [
    "vehicles_cleaned_df.head(10)"
   ]
  },
  {
   "cell_type": "code",
   "execution_count": 812,
   "metadata": {},
   "outputs": [
    {
     "data": {
      "image/png": "[encoded data removed]",
      "text/plain": [
       "<Figure size 3600x720 with 7 Axes>"
      ]
     },
     "metadata": {},
     "output_type": "display_data"
    }
   ],
   "source": [
    "f, (ax1, ax2, ax3, ax4, ax5, ax6, ax7) = plt.subplots(1, 7, sharey=True, figsize=(50,10))\n",
    "ax1.scatter(vehicles_cleaned_df['Year'], vehicles_cleaned_df['Diesel_Energy_Consumption_By_Train_In_Million_Gallons'])\n",
    "ax1.set_title('Year and Diesel Consumption')\n",
    "ax2.scatter(vehicles_cleaned_df['Number_Of_Locomotives_In_Use'], vehicles_cleaned_df['Diesel_Energy_Consumption_By_Train_In_Million_Gallons'])\n",
    "ax2.set_title('Number of Locomotives and Diesel Consumption')\n",
    "ax3.scatter(vehicles_cleaned_df['Number_Of_Cars_In_Use'], vehicles_cleaned_df['Diesel_Energy_Consumption_By_Train_In_Million_Gallons'])\n",
    "ax3.set_title('Number_Of_Cars_In_Use and Diesel Consumption')\n",
    "ax4.scatter(vehicles_cleaned_df['Million_Miles_Traveled_By_Train'], vehicles_cleaned_df['Diesel_Energy_Consumption_By_Train_In_Million_Gallons'])\n",
    "ax4.set_title('Million_Miles_Traveled_By_Train and Diesel Consumption')\n",
    "ax5.scatter(vehicles_cleaned_df['Million_Miles_Traveled_By_Car'], vehicles_cleaned_df['Diesel_Energy_Consumption_By_Train_In_Million_Gallons'])\n",
    "ax5.set_title('Million_Miles_Traveled_By_Car and Diesel Consumption')\n",
    "ax6.scatter(vehicles_cleaned_df['Electric_Energy_Consumption_By_Train_In_Million_Kilowatthours'], vehicles_cleaned_df['Diesel_Energy_Consumption_By_Train_In_Million_Gallons'])\n",
    "ax6.set_title('Electric Consumption and Diesel Consumption')\n",
    "ax7.scatter(vehicles_cleaned_df['Average_Miles_Traveled_Per_Car_In_Thousands'], vehicles_cleaned_df['Diesel_Energy_Consumption_By_Train_In_Million_Gallons'])\n",
    "ax7.set_title('Average_Miles_Traveled_Per_Car_In_Thousands and Diesel Consumption')\n",
    "\n",
    "plt.show()"
   ]
  },
  {
   "cell_type": "markdown",
   "metadata": {},
   "source": [
    "#### Insight\n",
    "\n",
    "Dapat dilihat, sebaran data dari masing-masing variable cukup menyebar, hal ini mungkin kurang menunjukkan linearitras antar variable. Mari kita coba gunakan *Heatmap*."
   ]
  },
  {
   "cell_type": "code",
   "execution_count": 813,
   "metadata": {},
   "outputs": [
    {
     "data": {
      "text/plain": [
       "<AxesSubplot:>"
      ]
     },
     "execution_count": 813,
     "metadata": {},
     "output_type": "execute_result"
    },
    {
     "data": {
      "image/png": "[encoded data removed]",
      "text/plain": [
       "<Figure size 504x504 with 2 Axes>"
      ]
     },
     "metadata": {},
     "output_type": "display_data"
    }
   ],
   "source": [
    "plt.figure(figsize=(7, 7))\n",
    "# ax = sns.heatmap(vehicles_cleaned_df, annot=True, vmin=0, vmax=1)\n",
    "sns.heatmap(vehicles_cleaned_df.corr(), annot=True, fmt='.2f')"
   ]
  },
  {
   "cell_type": "markdown",
   "metadata": {},
   "source": [
    "Variable yang menjadi prediktor adalah 'Diesel Energy Consumption'. Jika dilihat variable yang paling tinggi hubungannya adalah Number of cars in use & Million miles traveled by car."
   ]
  },
  {
   "cell_type": "code",
   "execution_count": 814,
   "metadata": {
    "scrolled": false
   },
   "outputs": [
    {
     "data": {
      "text/plain": [
       "Text(0.5, 1.0, 'Million_Miles_Traveled_By_Car and Diesel Consumption')"
      ]
     },
     "execution_count": 814,
     "metadata": {},
     "output_type": "execute_result"
    },
    {
     "data": {
      "image/png": "[encoded data removed]",
      "text/plain": [
       "<Figure size 1656x720 with 4 Axes>"
      ]
     },
     "metadata": {},
     "output_type": "display_data"
    }
   ],
   "source": [
    "f, ((ax1, ax2), (ax3, ax4)) = plt.subplots(2, 2, sharey='row', sharex='col', figsize=(23,10))\n",
    "ax1.hist(vehicles_cleaned_df[['Number_Of_Cars_In_Use']])\n",
    "ax1.set_title('Number Of Cars In Use')\n",
    "\n",
    "ax2.hist(vehicles_cleaned_df[['Million_Miles_Traveled_By_Car']])\n",
    "ax2.set_title('Million Miles Traveled By Car')\n",
    "\n",
    "ax3.scatter(vehicles_cleaned_df['Number_Of_Cars_In_Use'], vehicles_cleaned_df['Diesel_Energy_Consumption_By_Train_In_Million_Gallons'])\n",
    "ax3.set_title('Number_Of_Cars_In_Use and Diesel Consumption')\n",
    "\n",
    "ax4.scatter(vehicles_cleaned_df['Million_Miles_Traveled_By_Car'], vehicles_cleaned_df['Diesel_Energy_Consumption_By_Train_In_Million_Gallons'])\n",
    "ax4.set_title('Million_Miles_Traveled_By_Car and Diesel Consumption')"
   ]
  },
  {
   "cell_type": "markdown",
   "metadata": {},
   "source": [
    "#### Insight\n",
    "\n",
    "Dapat dilihat, kedua variable tersebut masing-masing terbagi menjadi 2 buah kelompok, baik antara jumlah mobil dengan diesel maupun banyak perjalanan mobil dengan diesel."
   ]
  },
  {
   "cell_type": "code",
   "execution_count": 815,
   "metadata": {},
   "outputs": [
    {
     "name": "stderr",
     "output_type": "stream",
     "text": [
      "C:\\ProgramData\\Anaconda3\\lib\\site-packages\\seaborn\\distributions.py:2619: FutureWarning: `distplot` is a deprecated function and will be removed in a future version. Please adapt your code to use either `displot` (a figure-level function with similar flexibility) or `histplot` (an axes-level function for histograms).\n",
      "  warnings.warn(msg, FutureWarning)\n"
     ]
    },
    {
     "data": {
      "text/plain": [
       "<AxesSubplot:ylabel='Density'>"
      ]
     },
     "execution_count": 815,
     "metadata": {},
     "output_type": "execute_result"
    },
    {
     "data": {
      "image/png": "[encoded data removed]",
      "text/plain": [
       "<Figure size 432x288 with 1 Axes>"
      ]
     },
     "metadata": {},
     "output_type": "display_data"
    }
   ],
   "source": [
    "sns.distplot(vehicles_cleaned_df[['Diesel_Energy_Consumption_By_Train_In_Million_Gallons']])"
   ]
  },
  {
   "cell_type": "markdown",
   "metadata": {},
   "source": [
    "#### Insight\n",
    "\n",
    "Jika dilihat dari variable diesel, dominan penggunaan pada sekitar 60 jutaan galon."
   ]
  },
  {
   "cell_type": "markdown",
   "metadata": {},
   "source": [
    "## Multicolinearity"
   ]
  },
  {
   "cell_type": "code",
   "execution_count": 816,
   "metadata": {},
   "outputs": [],
   "source": [
    "from statsmodels.stats.outliers_influence import variance_inflation_factor\n",
    "variables = vehicles_cleaned_df[['Year', \n",
    "    'Number_Of_Locomotives_In_Use', \n",
    "    'Number_Of_Cars_In_Use',\n",
    "    'Million_Miles_Traveled_By_Train',\n",
    "    'Million_Miles_Traveled_By_Car',\n",
    "    'Electric_Energy_Consumption_By_Train_In_Million_Kilowatthours',\n",
    "    'Average_Miles_Traveled_Per_Car_In_Thousands',\n",
    "]]\n",
    "vif = pd.DataFrame()\n",
    "\n",
    "vif['VIF'] = [variance_inflation_factor(variables.values, i) for i in range(variables.shape[1])]\n",
    "vif['Features'] = variables.columns"
   ]
  },
  {
   "cell_type": "code",
   "execution_count": 817,
   "metadata": {},
   "outputs": [
    {
     "data": {
      "text/html": [
       "<div>\n",
       "<style scoped>\n",
       "    .dataframe tbody tr th:only-of-type {\n",
       "        vertical-align: middle;\n",
       "    }\n",
       "\n",
       "    .dataframe tbody tr th {\n",
       "        vertical-align: top;\n",
       "    }\n",
       "\n",
       "    .dataframe thead th {\n",
       "        text-align: right;\n",
       "    }\n",
       "</style>\n",
       "<table border=\"1\" class=\"dataframe\">\n",
       "  <thead>\n",
       "    <tr style=\"text-align: right;\">\n",
       "      <th></th>\n",
       "      <th>VIF</th>\n",
       "      <th>Features</th>\n",
       "    </tr>\n",
       "  </thead>\n",
       "  <tbody>\n",
       "    <tr>\n",
       "      <th>0</th>\n",
       "      <td>3039.15</td>\n",
       "      <td>Year</td>\n",
       "    </tr>\n",
       "    <tr>\n",
       "      <th>1</th>\n",
       "      <td>75.85</td>\n",
       "      <td>Number_Of_Locomotives_In_Use</td>\n",
       "    </tr>\n",
       "    <tr>\n",
       "      <th>2</th>\n",
       "      <td>1719.13</td>\n",
       "      <td>Number_Of_Cars_In_Use</td>\n",
       "    </tr>\n",
       "    <tr>\n",
       "      <th>3</th>\n",
       "      <td>1319.04</td>\n",
       "      <td>Million_Miles_Traveled_By_Train</td>\n",
       "    </tr>\n",
       "    <tr>\n",
       "      <th>4</th>\n",
       "      <td>1315.21</td>\n",
       "      <td>Million_Miles_Traveled_By_Car</td>\n",
       "    </tr>\n",
       "    <tr>\n",
       "      <th>5</th>\n",
       "      <td>82.47</td>\n",
       "      <td>Electric_Energy_Consumption_By_Train_In_Millio...</td>\n",
       "    </tr>\n",
       "    <tr>\n",
       "      <th>6</th>\n",
       "      <td>2103.08</td>\n",
       "      <td>Average_Miles_Traveled_Per_Car_In_Thousands</td>\n",
       "    </tr>\n",
       "  </tbody>\n",
       "</table>\n",
       "</div>"
      ],
      "text/plain": [
       "      VIF                                           Features\n",
       "0 3039.15                                               Year\n",
       "1   75.85                       Number_Of_Locomotives_In_Use\n",
       "2 1719.13                              Number_Of_Cars_In_Use\n",
       "3 1319.04                    Million_Miles_Traveled_By_Train\n",
       "4 1315.21                      Million_Miles_Traveled_By_Car\n",
       "5   82.47  Electric_Energy_Consumption_By_Train_In_Millio...\n",
       "6 2103.08        Average_Miles_Traveled_Per_Car_In_Thousands"
      ]
     },
     "execution_count": 817,
     "metadata": {},
     "output_type": "execute_result"
    }
   ],
   "source": [
    "vif"
   ]
  },
  {
   "cell_type": "code",
   "execution_count": 818,
   "metadata": {},
   "outputs": [],
   "source": [
    "data_no_multi = vehicles_df.drop(['Year'],axis=1)\n",
    "data_no_multi = data_no_multi.drop(['Average_Miles_Traveled_Per_Car_In_Thousands'],axis=1)\n",
    "data_no_multi = data_no_multi.drop(['Number_Of_Cars_In_Use'],axis=1)"
   ]
  },
  {
   "cell_type": "code",
   "execution_count": 819,
   "metadata": {},
   "outputs": [
    {
     "data": {
      "text/html": [
       "<div>\n",
       "<style scoped>\n",
       "    .dataframe tbody tr th:only-of-type {\n",
       "        vertical-align: middle;\n",
       "    }\n",
       "\n",
       "    .dataframe tbody tr th {\n",
       "        vertical-align: top;\n",
       "    }\n",
       "\n",
       "    .dataframe thead th {\n",
       "        text-align: right;\n",
       "    }\n",
       "</style>\n",
       "<table border=\"1\" class=\"dataframe\">\n",
       "  <thead>\n",
       "    <tr style=\"text-align: right;\">\n",
       "      <th></th>\n",
       "      <th>Number_Of_Locomotives_In_Use</th>\n",
       "      <th>Million_Miles_Traveled_By_Train</th>\n",
       "      <th>Million_Miles_Traveled_By_Car</th>\n",
       "      <th>Electric_Energy_Consumption_By_Train_In_Million_Kilowatthours</th>\n",
       "      <th>Diesel_Energy_Consumption_By_Train_In_Million_Gallons</th>\n",
       "    </tr>\n",
       "  </thead>\n",
       "  <tbody>\n",
       "    <tr>\n",
       "      <th>0</th>\n",
       "      <td>355</td>\n",
       "      <td>30</td>\n",
       "      <td>253</td>\n",
       "      <td>180</td>\n",
       "      <td>63</td>\n",
       "    </tr>\n",
       "    <tr>\n",
       "      <th>1</th>\n",
       "      <td>419</td>\n",
       "      <td>30</td>\n",
       "      <td>235</td>\n",
       "      <td>254</td>\n",
       "      <td>64</td>\n",
       "    </tr>\n",
       "    <tr>\n",
       "      <th>2</th>\n",
       "      <td>291</td>\n",
       "      <td>30</td>\n",
       "      <td>251</td>\n",
       "      <td>295</td>\n",
       "      <td>65</td>\n",
       "    </tr>\n",
       "    <tr>\n",
       "      <th>3</th>\n",
       "      <td>318</td>\n",
       "      <td>33</td>\n",
       "      <td>301</td>\n",
       "      <td>330</td>\n",
       "      <td>82</td>\n",
       "    </tr>\n",
       "    <tr>\n",
       "      <th>4</th>\n",
       "      <td>316</td>\n",
       "      <td>34</td>\n",
       "      <td>313</td>\n",
       "      <td>303</td>\n",
       "      <td>82</td>\n",
       "    </tr>\n",
       "  </tbody>\n",
       "</table>\n",
       "</div>"
      ],
      "text/plain": [
       "   Number_Of_Locomotives_In_Use  Million_Miles_Traveled_By_Train  \\\n",
       "0                           355                               30   \n",
       "1                           419                               30   \n",
       "2                           291                               30   \n",
       "3                           318                               33   \n",
       "4                           316                               34   \n",
       "\n",
       "   Million_Miles_Traveled_By_Car  \\\n",
       "0                            253   \n",
       "1                            235   \n",
       "2                            251   \n",
       "3                            301   \n",
       "4                            313   \n",
       "\n",
       "   Electric_Energy_Consumption_By_Train_In_Million_Kilowatthours  \\\n",
       "0                                                180               \n",
       "1                                                254               \n",
       "2                                                295               \n",
       "3                                                330               \n",
       "4                                                303               \n",
       "\n",
       "   Diesel_Energy_Consumption_By_Train_In_Million_Gallons  \n",
       "0                                                 63      \n",
       "1                                                 64      \n",
       "2                                                 65      \n",
       "3                                                 82      \n",
       "4                                                 82      "
      ]
     },
     "execution_count": 819,
     "metadata": {},
     "output_type": "execute_result"
    }
   ],
   "source": [
    "data_no_multi.head()"
   ]
  },
  {
   "cell_type": "markdown",
   "metadata": {},
   "source": [
    "## Linear Regression Model"
   ]
  },
  {
   "cell_type": "markdown",
   "metadata": {},
   "source": [
    "### Declare input and target"
   ]
  },
  {
   "cell_type": "code",
   "execution_count": 820,
   "metadata": {},
   "outputs": [],
   "source": [
    "targets = data_no_multi['Diesel_Energy_Consumption_By_Train_In_Million_Gallons']\n",
    "inputs = data_no_multi.drop(['Diesel_Energy_Consumption_By_Train_In_Million_Gallons'], axis=1)"
   ]
  },
  {
   "cell_type": "markdown",
   "metadata": {},
   "source": [
    "### Scale the data"
   ]
  },
  {
   "cell_type": "code",
   "execution_count": 821,
   "metadata": {},
   "outputs": [
    {
     "data": {
      "text/plain": [
       "StandardScaler()"
      ]
     },
     "execution_count": 821,
     "metadata": {},
     "output_type": "execute_result"
    }
   ],
   "source": [
    "from sklearn.preprocessing import StandardScaler\n",
    "scaler = StandardScaler()\n",
    "scaler.fit(inputs)"
   ]
  },
  {
   "cell_type": "code",
   "execution_count": 822,
   "metadata": {},
   "outputs": [],
   "source": [
    "inputs_scaled = scaler.transform(inputs)"
   ]
  },
  {
   "cell_type": "code",
   "execution_count": 823,
   "metadata": {},
   "outputs": [
    {
     "data": {
      "text/plain": [
       "array([[ 0.04249779, -1.95798377, -1.43333562, -2.41893308],\n",
       "       [ 1.08616434, -1.95798377, -1.96314355, -1.74760286],\n",
       "       [-1.00116876, -1.95798377, -1.49220316, -1.37564963],\n",
       "       [-0.56087194, -0.86284031, -0.02051445, -1.05812859],\n",
       "       [-0.59348652, -0.49779248,  0.33269084, -1.30307339],\n",
       "       [-0.26734072, -0.49779248,  0.1560882 , -1.33028948],\n",
       "       [ 0.12403423, -0.13274466,  0.0383531 , -1.32121745],\n",
       "       [-0.23472614, -0.49779248,  0.06778687, -1.24864121],\n",
       "       [-0.64240839, -1.22788813, -0.28541842, -1.00369641],\n",
       "       [-0.87071045, -1.95798377, -0.75635881, -0.7587516 ],\n",
       "       [-0.33256988, -1.22788813, -0.40315351, -0.51380679],\n",
       "       [-0.12057511, -0.86284031,  0.30325707, -0.27793401],\n",
       "       [-0.38149175, -0.49779248,  1.1862703 , -0.0329892 ],\n",
       "       [ 0.41756545, -0.13274466,  1.95154843,  0.21195561],\n",
       "       [ 0.79263312,  0.23230316,  2.24588617,  0.08494719],\n",
       "       [ 0.31972171,  0.9623988 ,  2.27531995,  0.64741305],\n",
       "       [ 1.461232  ,  0.59735098,  0.89193255,  0.81978162],\n",
       "       [-1.24577811,  0.59735098,  0.18552197,  0.94679004],\n",
       "       [-1.53930933,  0.23230316, -1.08013032,  0.76534944],\n",
       "       [-0.54456465,  0.23230316, -1.1095641 ,  0.92864598],\n",
       "       [-1.34362185,  0.59735098, -1.02126278,  1.19173485],\n",
       "       [-1.21316353,  0.9623988 , -0.8740939 ,  1.22802297],\n",
       "       [-1.27839269,  0.9623988 , -0.55032239,  1.07379846],\n",
       "       [-1.14793437,  0.59735098, -0.19711709,  1.01936628],\n",
       "       [-1.06639792,  0.59735098, -0.16768332,  0.98307816],\n",
       "       [ 2.16244546,  0.9623988 ,  0.50929349,  0.92864598],\n",
       "       [ 1.06985705,  0.9623988 ,  0.68589613,  0.71091726],\n",
       "       [ 1.23292994,  0.9623988 ,  0.68589613,  0.62019696],\n",
       "       [ 1.15139349,  0.9623988 ,  0.50929349,  0.52040463],\n",
       "       [ 1.33077368,  0.9623988 ,  0.42099217,  0.62926899],\n",
       "       [ 1.08616434,  0.9623988 ,  0.42099217,  0.39339621],\n",
       "       [ 1.28185181,  0.9623988 , -0.84466013,  0.34803606],\n",
       "       [ 0.8252477 ,  0.9623988 , -0.66805748,  0.33896403]])"
      ]
     },
     "execution_count": 823,
     "metadata": {},
     "output_type": "execute_result"
    }
   ],
   "source": [
    "inputs_scaled"
   ]
  },
  {
   "cell_type": "markdown",
   "metadata": {},
   "source": [
    "## Train Test Split"
   ]
  },
  {
   "cell_type": "code",
   "execution_count": 824,
   "metadata": {},
   "outputs": [],
   "source": [
    "from sklearn.model_selection import train_test_split\n",
    "\n",
    "x_train, x_test, y_train, y_test = train_test_split(inputs_scaled, targets, test_size=0.2, random_state=365)"
   ]
  },
  {
   "cell_type": "markdown",
   "metadata": {},
   "source": [
    "## Create the Regression"
   ]
  },
  {
   "cell_type": "code",
   "execution_count": 825,
   "metadata": {},
   "outputs": [],
   "source": [
    "from sklearn.linear_model import LinearRegression"
   ]
  },
  {
   "cell_type": "code",
   "execution_count": 826,
   "metadata": {},
   "outputs": [
    {
     "data": {
      "text/plain": [
       "LinearRegression()"
      ]
     },
     "execution_count": 826,
     "metadata": {},
     "output_type": "execute_result"
    }
   ],
   "source": [
    "reg = LinearRegression()\n",
    "\n",
    "reg.fit(x_train, y_train)"
   ]
  },
  {
   "cell_type": "code",
   "execution_count": 827,
   "metadata": {},
   "outputs": [],
   "source": [
    "y_hat = reg.predict(x_train)"
   ]
  },
  {
   "cell_type": "code",
   "execution_count": 828,
   "metadata": {},
   "outputs": [
    {
     "data": {
      "image/png": "[encoded data removed]",
      "text/plain": [
       "<Figure size 432x288 with 1 Axes>"
      ]
     },
     "metadata": {},
     "output_type": "display_data"
    }
   ],
   "source": [
    "plt.scatter(y_train, y_hat)\n",
    "plt.xlabel('Target (y_train)', size=18)\n",
    "plt.ylabel('Predictions (y_hat)', size=18)\n",
    "plt.show()"
   ]
  },
  {
   "cell_type": "markdown",
   "metadata": {},
   "source": [
    "#### Insight\n",
    "\n",
    "Terlihat prediksi yang banyak meleset."
   ]
  },
  {
   "cell_type": "code",
   "execution_count": 829,
   "metadata": {},
   "outputs": [
    {
     "name": "stderr",
     "output_type": "stream",
     "text": [
      "C:\\ProgramData\\Anaconda3\\lib\\site-packages\\seaborn\\distributions.py:2619: FutureWarning: `distplot` is a deprecated function and will be removed in a future version. Please adapt your code to use either `displot` (a figure-level function with similar flexibility) or `histplot` (an axes-level function for histograms).\n",
      "  warnings.warn(msg, FutureWarning)\n"
     ]
    },
    {
     "data": {
      "text/plain": [
       "Text(0.5, 1.0, 'Residuals PDF')"
      ]
     },
     "execution_count": 829,
     "metadata": {},
     "output_type": "execute_result"
    },
    {
     "data": {
      "image/png": "[encoded data removed]",
      "text/plain": [
       "<Figure size 432x288 with 1 Axes>"
      ]
     },
     "metadata": {},
     "output_type": "display_data"
    }
   ],
   "source": [
    "sns.distplot(y_train - y_hat)\n",
    "plt.title(\"Residuals PDF\", size=18)"
   ]
  },
  {
   "cell_type": "code",
   "execution_count": 830,
   "metadata": {},
   "outputs": [
    {
     "data": {
      "text/plain": [
       "0.7812585620732866"
      ]
     },
     "execution_count": 830,
     "metadata": {},
     "output_type": "execute_result"
    }
   ],
   "source": [
    "reg.score(x_train, y_train)"
   ]
  },
  {
   "cell_type": "code",
   "execution_count": 831,
   "metadata": {},
   "outputs": [
    {
     "data": {
      "text/plain": [
       "16.95343218534659"
      ]
     },
     "execution_count": 831,
     "metadata": {},
     "output_type": "execute_result"
    }
   ],
   "source": [
    "from sklearn.metrics import mean_squared_error\n",
    "reg_mse = mean_squared_error(y_train,y_hat)\n",
    "reg_mse"
   ]
  },
  {
   "cell_type": "code",
   "execution_count": 832,
   "metadata": {},
   "outputs": [
    {
     "data": {
      "text/plain": [
       "4.1174545759906795"
      ]
     },
     "execution_count": 832,
     "metadata": {},
     "output_type": "execute_result"
    }
   ],
   "source": [
    "reg_mrse = np.sqrt(reg_mse)\n",
    "reg_mrse"
   ]
  },
  {
   "cell_type": "code",
   "execution_count": 833,
   "metadata": {},
   "outputs": [
    {
     "data": {
      "text/plain": [
       "3.672800822400941"
      ]
     },
     "execution_count": 833,
     "metadata": {},
     "output_type": "execute_result"
    }
   ],
   "source": [
    "from sklearn.metrics import mean_absolute_error\n",
    "reg_mae = mean_absolute_error(y_train,y_hat)\n",
    "reg_mae"
   ]
  },
  {
   "cell_type": "markdown",
   "metadata": {},
   "source": [
    "## Finding the weight and bias"
   ]
  },
  {
   "cell_type": "code",
   "execution_count": 834,
   "metadata": {},
   "outputs": [
    {
     "data": {
      "text/plain": [
       "71.15716827001404"
      ]
     },
     "execution_count": 834,
     "metadata": {},
     "output_type": "execute_result"
    }
   ],
   "source": [
    "reg.intercept_"
   ]
  },
  {
   "cell_type": "code",
   "execution_count": 835,
   "metadata": {},
   "outputs": [
    {
     "data": {
      "text/plain": [
       "array([-2.58514597, -1.49363899,  9.11365255, -3.67224224])"
      ]
     },
     "execution_count": 835,
     "metadata": {},
     "output_type": "execute_result"
    }
   ],
   "source": [
    "reg.coef_"
   ]
  },
  {
   "cell_type": "code",
   "execution_count": 836,
   "metadata": {},
   "outputs": [
    {
     "data": {
      "text/html": [
       "<div>\n",
       "<style scoped>\n",
       "    .dataframe tbody tr th:only-of-type {\n",
       "        vertical-align: middle;\n",
       "    }\n",
       "\n",
       "    .dataframe tbody tr th {\n",
       "        vertical-align: top;\n",
       "    }\n",
       "\n",
       "    .dataframe thead th {\n",
       "        text-align: right;\n",
       "    }\n",
       "</style>\n",
       "<table border=\"1\" class=\"dataframe\">\n",
       "  <thead>\n",
       "    <tr style=\"text-align: right;\">\n",
       "      <th></th>\n",
       "      <th>Features</th>\n",
       "      <th>Weight</th>\n",
       "    </tr>\n",
       "  </thead>\n",
       "  <tbody>\n",
       "    <tr>\n",
       "      <th>0</th>\n",
       "      <td>Number_Of_Locomotives_In_Use</td>\n",
       "      <td>-2.59</td>\n",
       "    </tr>\n",
       "    <tr>\n",
       "      <th>1</th>\n",
       "      <td>Million_Miles_Traveled_By_Train</td>\n",
       "      <td>-1.49</td>\n",
       "    </tr>\n",
       "    <tr>\n",
       "      <th>2</th>\n",
       "      <td>Million_Miles_Traveled_By_Car</td>\n",
       "      <td>9.11</td>\n",
       "    </tr>\n",
       "    <tr>\n",
       "      <th>3</th>\n",
       "      <td>Electric_Energy_Consumption_By_Train_In_Millio...</td>\n",
       "      <td>-3.67</td>\n",
       "    </tr>\n",
       "  </tbody>\n",
       "</table>\n",
       "</div>"
      ],
      "text/plain": [
       "                                            Features  Weight\n",
       "0                       Number_Of_Locomotives_In_Use   -2.59\n",
       "1                    Million_Miles_Traveled_By_Train   -1.49\n",
       "2                      Million_Miles_Traveled_By_Car    9.11\n",
       "3  Electric_Energy_Consumption_By_Train_In_Millio...   -3.67"
      ]
     },
     "execution_count": 836,
     "metadata": {},
     "output_type": "execute_result"
    }
   ],
   "source": [
    "reg_summary = pd.DataFrame(inputs.columns.values, columns=['Features'])\n",
    "reg_summary['Weight'] = reg.coef_\n",
    "reg_summary"
   ]
  },
  {
   "cell_type": "markdown",
   "metadata": {},
   "source": [
    "## Testing"
   ]
  },
  {
   "cell_type": "code",
   "execution_count": 837,
   "metadata": {},
   "outputs": [],
   "source": [
    "y_hat_test = reg.predict(x_test)"
   ]
  },
  {
   "cell_type": "code",
   "execution_count": 838,
   "metadata": {},
   "outputs": [
    {
     "data": {
      "image/png": "[encoded data removed]",
      "text/plain": [
       "<Figure size 432x288 with 1 Axes>"
      ]
     },
     "metadata": {},
     "output_type": "display_data"
    }
   ],
   "source": [
    "plt.scatter(y_test, y_hat_test, alpha=0.4)\n",
    "plt.xlabel('Target (y_test)', size=18)\n",
    "plt.ylabel('Predictions (y_hat_test)', size=18)\n",
    "plt.show()"
   ]
  },
  {
   "cell_type": "code",
   "execution_count": 839,
   "metadata": {},
   "outputs": [
    {
     "data": {
      "text/html": [
       "<div>\n",
       "<style scoped>\n",
       "    .dataframe tbody tr th:only-of-type {\n",
       "        vertical-align: middle;\n",
       "    }\n",
       "\n",
       "    .dataframe tbody tr th {\n",
       "        vertical-align: top;\n",
       "    }\n",
       "\n",
       "    .dataframe thead th {\n",
       "        text-align: right;\n",
       "    }\n",
       "</style>\n",
       "<table border=\"1\" class=\"dataframe\">\n",
       "  <thead>\n",
       "    <tr style=\"text-align: right;\">\n",
       "      <th></th>\n",
       "      <th>Prediction</th>\n",
       "      <th>Target</th>\n",
       "      <th>Residual</th>\n",
       "      <th>Difference%</th>\n",
       "    </tr>\n",
       "  </thead>\n",
       "  <tbody>\n",
       "    <tr>\n",
       "      <th>0</th>\n",
       "      <td>87.25</td>\n",
       "      <td>84</td>\n",
       "      <td>-3.25</td>\n",
       "      <td>3.87</td>\n",
       "    </tr>\n",
       "    <tr>\n",
       "      <th>1</th>\n",
       "      <td>69.30</td>\n",
       "      <td>64</td>\n",
       "      <td>-5.30</td>\n",
       "      <td>8.29</td>\n",
       "    </tr>\n",
       "    <tr>\n",
       "      <th>2</th>\n",
       "      <td>67.88</td>\n",
       "      <td>63</td>\n",
       "      <td>-4.88</td>\n",
       "      <td>7.75</td>\n",
       "    </tr>\n",
       "    <tr>\n",
       "      <th>3</th>\n",
       "      <td>88.92</td>\n",
       "      <td>97</td>\n",
       "      <td>8.08</td>\n",
       "      <td>8.33</td>\n",
       "    </tr>\n",
       "    <tr>\n",
       "      <th>4</th>\n",
       "      <td>67.81</td>\n",
       "      <td>60</td>\n",
       "      <td>-7.81</td>\n",
       "      <td>13.01</td>\n",
       "    </tr>\n",
       "    <tr>\n",
       "      <th>5</th>\n",
       "      <td>70.59</td>\n",
       "      <td>66</td>\n",
       "      <td>-4.59</td>\n",
       "      <td>6.96</td>\n",
       "    </tr>\n",
       "    <tr>\n",
       "      <th>6</th>\n",
       "      <td>57.43</td>\n",
       "      <td>65</td>\n",
       "      <td>7.57</td>\n",
       "      <td>11.65</td>\n",
       "    </tr>\n",
       "  </tbody>\n",
       "</table>\n",
       "</div>"
      ],
      "text/plain": [
       "   Prediction  Target  Residual  Difference%\n",
       "0       87.25      84     -3.25         3.87\n",
       "1       69.30      64     -5.30         8.29\n",
       "2       67.88      63     -4.88         7.75\n",
       "3       88.92      97      8.08         8.33\n",
       "4       67.81      60     -7.81        13.01\n",
       "5       70.59      66     -4.59         6.96\n",
       "6       57.43      65      7.57        11.65"
      ]
     },
     "execution_count": 839,
     "metadata": {},
     "output_type": "execute_result"
    }
   ],
   "source": [
    "df_perform = pd.DataFrame(y_hat_test, columns = ['Prediction'])\n",
    "df_perform['Target'] = y_test.reset_index(drop=True)\n",
    "df_perform['Residual'] = df_perform['Target'] - df_perform['Prediction']\n",
    "df_perform['Difference%'] = np.absolute(df_perform['Residual']/df_perform['Target']*100)\n",
    "\n",
    "df_perform"
   ]
  },
  {
   "cell_type": "code",
   "execution_count": 840,
   "metadata": {},
   "outputs": [
    {
     "data": {
      "text/html": [
       "<div>\n",
       "<style scoped>\n",
       "    .dataframe tbody tr th:only-of-type {\n",
       "        vertical-align: middle;\n",
       "    }\n",
       "\n",
       "    .dataframe tbody tr th {\n",
       "        vertical-align: top;\n",
       "    }\n",
       "\n",
       "    .dataframe thead th {\n",
       "        text-align: right;\n",
       "    }\n",
       "</style>\n",
       "<table border=\"1\" class=\"dataframe\">\n",
       "  <thead>\n",
       "    <tr style=\"text-align: right;\">\n",
       "      <th></th>\n",
       "      <th>Prediction</th>\n",
       "      <th>Target</th>\n",
       "      <th>Residual</th>\n",
       "      <th>Difference%</th>\n",
       "    </tr>\n",
       "  </thead>\n",
       "  <tbody>\n",
       "    <tr>\n",
       "      <th>0</th>\n",
       "      <td>87.25</td>\n",
       "      <td>84</td>\n",
       "      <td>-3.25</td>\n",
       "      <td>3.87</td>\n",
       "    </tr>\n",
       "    <tr>\n",
       "      <th>5</th>\n",
       "      <td>70.59</td>\n",
       "      <td>66</td>\n",
       "      <td>-4.59</td>\n",
       "      <td>6.96</td>\n",
       "    </tr>\n",
       "    <tr>\n",
       "      <th>2</th>\n",
       "      <td>67.88</td>\n",
       "      <td>63</td>\n",
       "      <td>-4.88</td>\n",
       "      <td>7.75</td>\n",
       "    </tr>\n",
       "    <tr>\n",
       "      <th>1</th>\n",
       "      <td>69.30</td>\n",
       "      <td>64</td>\n",
       "      <td>-5.30</td>\n",
       "      <td>8.29</td>\n",
       "    </tr>\n",
       "    <tr>\n",
       "      <th>3</th>\n",
       "      <td>88.92</td>\n",
       "      <td>97</td>\n",
       "      <td>8.08</td>\n",
       "      <td>8.33</td>\n",
       "    </tr>\n",
       "    <tr>\n",
       "      <th>6</th>\n",
       "      <td>57.43</td>\n",
       "      <td>65</td>\n",
       "      <td>7.57</td>\n",
       "      <td>11.65</td>\n",
       "    </tr>\n",
       "    <tr>\n",
       "      <th>4</th>\n",
       "      <td>67.81</td>\n",
       "      <td>60</td>\n",
       "      <td>-7.81</td>\n",
       "      <td>13.01</td>\n",
       "    </tr>\n",
       "  </tbody>\n",
       "</table>\n",
       "</div>"
      ],
      "text/plain": [
       "   Prediction  Target  Residual  Difference%\n",
       "0       87.25      84     -3.25         3.87\n",
       "5       70.59      66     -4.59         6.96\n",
       "2       67.88      63     -4.88         7.75\n",
       "1       69.30      64     -5.30         8.29\n",
       "3       88.92      97      8.08         8.33\n",
       "6       57.43      65      7.57        11.65\n",
       "4       67.81      60     -7.81        13.01"
      ]
     },
     "execution_count": 840,
     "metadata": {},
     "output_type": "execute_result"
    }
   ],
   "source": [
    "pd.options.display.max_rows = 999\n",
    "pd.set_option('display.float_format', lambda x: '%.2f' % x)\n",
    "df_perform.sort_values(by=['Difference%'])"
   ]
  },
  {
   "cell_type": "code",
   "execution_count": 841,
   "metadata": {},
   "outputs": [
    {
     "data": {
      "text/html": [
       "<div>\n",
       "<style scoped>\n",
       "    .dataframe tbody tr th:only-of-type {\n",
       "        vertical-align: middle;\n",
       "    }\n",
       "\n",
       "    .dataframe tbody tr th {\n",
       "        vertical-align: top;\n",
       "    }\n",
       "\n",
       "    .dataframe thead th {\n",
       "        text-align: right;\n",
       "    }\n",
       "</style>\n",
       "<table border=\"1\" class=\"dataframe\">\n",
       "  <thead>\n",
       "    <tr style=\"text-align: right;\">\n",
       "      <th></th>\n",
       "      <th>Prediction</th>\n",
       "      <th>Target</th>\n",
       "      <th>Residual</th>\n",
       "      <th>Difference%</th>\n",
       "    </tr>\n",
       "  </thead>\n",
       "  <tbody>\n",
       "    <tr>\n",
       "      <th>count</th>\n",
       "      <td>7.00</td>\n",
       "      <td>7.00</td>\n",
       "      <td>7.00</td>\n",
       "      <td>7.00</td>\n",
       "    </tr>\n",
       "    <tr>\n",
       "      <th>mean</th>\n",
       "      <td>72.74</td>\n",
       "      <td>71.29</td>\n",
       "      <td>-1.46</td>\n",
       "      <td>8.55</td>\n",
       "    </tr>\n",
       "    <tr>\n",
       "      <th>std</th>\n",
       "      <td>11.34</td>\n",
       "      <td>13.78</td>\n",
       "      <td>6.49</td>\n",
       "      <td>3.02</td>\n",
       "    </tr>\n",
       "    <tr>\n",
       "      <th>min</th>\n",
       "      <td>57.43</td>\n",
       "      <td>60.00</td>\n",
       "      <td>-7.81</td>\n",
       "      <td>3.87</td>\n",
       "    </tr>\n",
       "    <tr>\n",
       "      <th>25%</th>\n",
       "      <td>67.84</td>\n",
       "      <td>63.50</td>\n",
       "      <td>-5.09</td>\n",
       "      <td>7.36</td>\n",
       "    </tr>\n",
       "    <tr>\n",
       "      <th>50%</th>\n",
       "      <td>69.30</td>\n",
       "      <td>65.00</td>\n",
       "      <td>-4.59</td>\n",
       "      <td>8.29</td>\n",
       "    </tr>\n",
       "    <tr>\n",
       "      <th>75%</th>\n",
       "      <td>78.92</td>\n",
       "      <td>75.00</td>\n",
       "      <td>2.16</td>\n",
       "      <td>9.99</td>\n",
       "    </tr>\n",
       "    <tr>\n",
       "      <th>max</th>\n",
       "      <td>88.92</td>\n",
       "      <td>97.00</td>\n",
       "      <td>8.08</td>\n",
       "      <td>13.01</td>\n",
       "    </tr>\n",
       "  </tbody>\n",
       "</table>\n",
       "</div>"
      ],
      "text/plain": [
       "       Prediction  Target  Residual  Difference%\n",
       "count        7.00    7.00      7.00         7.00\n",
       "mean        72.74   71.29     -1.46         8.55\n",
       "std         11.34   13.78      6.49         3.02\n",
       "min         57.43   60.00     -7.81         3.87\n",
       "25%         67.84   63.50     -5.09         7.36\n",
       "50%         69.30   65.00     -4.59         8.29\n",
       "75%         78.92   75.00      2.16         9.99\n",
       "max         88.92   97.00      8.08        13.01"
      ]
     },
     "execution_count": 841,
     "metadata": {},
     "output_type": "execute_result"
    }
   ],
   "source": [
    "df_perform.describe()"
   ]
  },
  {
   "cell_type": "markdown",
   "metadata": {},
   "source": [
    "### Kesimpulan\n",
    "\n",
    "Jika dilihat di kolom __'Difference%'__, selisih tidak terlalu jauh, masih dapat diterima. Jadi dapat dikatakan bahwa model yang dihasilkan tidak overfit. Menurut kami ada kekurangan yang sangat berperngaruh terhadap pengerjaan tugas kali ini, yaitu jumlah data yang terlalu sedikit. Kami yakin jika jumlah data diperbanyak, maka model yang dihasilkan akan lebih baik lagi."
   ]
  }
 ],
 "metadata": {
  "kernelspec": {
   "display_name": "Python 3 (ipykernel)",
   "language": "python",
   "name": "python3"
  },
  "language_info": {
   "codemirror_mode": {
    "name": "ipython",
    "version": 3
   },
   "file_extension": ".py",
   "mimetype": "text/x-python",
   "name": "python",
   "nbconvert_exporter": "python",
   "pygments_lexer": "ipython3",
   "version": "3.9.7"
  }
 },
 "nbformat": 4,
 "nbformat_minor": 4
}
