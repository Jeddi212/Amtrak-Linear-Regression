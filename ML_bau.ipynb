{
 "cells": [
  {
   "cell_type": "markdown",
   "metadata": {},
   "source": [
    "### 1119007 - Timothy Ray\n",
    "### 1119023 - Jedediah Fanuel\n",
    "### 1119033 - Fedly Septian"
   ]
  },
  {
   "cell_type": "code",
   "execution_count": 143,
   "metadata": {},
   "outputs": [],
   "source": [
    "import numpy as np\n",
    "import pandas as pd\n",
    "import matplotlib.pyplot as plt\n",
    "import seaborn as sns\n",
    "sns.set()\n",
    "from scipy import stats"
   ]
  },
  {
   "cell_type": "code",
   "execution_count": 144,
   "metadata": {},
   "outputs": [
    {
     "name": "stdout",
     "output_type": "stream",
     "text": [
      "(33, 8)\n"
     ]
    }
   ],
   "source": [
    "vehicles_df = pd.read_csv(\"Amtrak Passenger Rail Fuel Consumption and Travel.csv\")\n",
    "print(vehicles_df.shape)"
   ]
  },
  {
   "cell_type": "code",
   "execution_count": 145,
   "metadata": {},
   "outputs": [
    {
     "data": {
      "text/html": [
       "<div>\n",
       "<style scoped>\n",
       "    .dataframe tbody tr th:only-of-type {\n",
       "        vertical-align: middle;\n",
       "    }\n",
       "\n",
       "    .dataframe tbody tr th {\n",
       "        vertical-align: top;\n",
       "    }\n",
       "\n",
       "    .dataframe thead th {\n",
       "        text-align: right;\n",
       "    }\n",
       "</style>\n",
       "<table border=\"1\" class=\"dataframe\">\n",
       "  <thead>\n",
       "    <tr style=\"text-align: right;\">\n",
       "      <th></th>\n",
       "      <th>Year</th>\n",
       "      <th>Number_Of_Locomotives_In_Use</th>\n",
       "      <th>Number_Of_Cars_In_Use</th>\n",
       "      <th>Million_Miles_Traveled_By_Train</th>\n",
       "      <th>Million_Miles_Traveled_By_Car</th>\n",
       "      <th>Electric_Energy_Consumption_By_Train_In_Million_Kilowatthours</th>\n",
       "      <th>Diesel_Energy_Consumption_By_Train_In_Million_Gallons</th>\n",
       "      <th>Average_Miles_Traveled_Per_Car_In_Thousands</th>\n",
       "    </tr>\n",
       "  </thead>\n",
       "  <tbody>\n",
       "    <tr>\n",
       "      <th>0</th>\n",
       "      <td>1975</td>\n",
       "      <td>355</td>\n",
       "      <td>1913</td>\n",
       "      <td>30</td>\n",
       "      <td>253</td>\n",
       "      <td>180</td>\n",
       "      <td>63</td>\n",
       "      <td>132</td>\n",
       "    </tr>\n",
       "    <tr>\n",
       "      <th>1</th>\n",
       "      <td>1980</td>\n",
       "      <td>419</td>\n",
       "      <td>2128</td>\n",
       "      <td>30</td>\n",
       "      <td>235</td>\n",
       "      <td>254</td>\n",
       "      <td>64</td>\n",
       "      <td>110</td>\n",
       "    </tr>\n",
       "    <tr>\n",
       "      <th>2</th>\n",
       "      <td>1985</td>\n",
       "      <td>291</td>\n",
       "      <td>1854</td>\n",
       "      <td>30</td>\n",
       "      <td>251</td>\n",
       "      <td>295</td>\n",
       "      <td>65</td>\n",
       "      <td>135</td>\n",
       "    </tr>\n",
       "    <tr>\n",
       "      <th>3</th>\n",
       "      <td>1990</td>\n",
       "      <td>318</td>\n",
       "      <td>1863</td>\n",
       "      <td>33</td>\n",
       "      <td>301</td>\n",
       "      <td>330</td>\n",
       "      <td>82</td>\n",
       "      <td>162</td>\n",
       "    </tr>\n",
       "    <tr>\n",
       "      <th>4</th>\n",
       "      <td>1991</td>\n",
       "      <td>316</td>\n",
       "      <td>1786</td>\n",
       "      <td>34</td>\n",
       "      <td>313</td>\n",
       "      <td>303</td>\n",
       "      <td>82</td>\n",
       "      <td>175</td>\n",
       "    </tr>\n",
       "    <tr>\n",
       "      <th>5</th>\n",
       "      <td>1992</td>\n",
       "      <td>336</td>\n",
       "      <td>1796</td>\n",
       "      <td>34</td>\n",
       "      <td>307</td>\n",
       "      <td>300</td>\n",
       "      <td>82</td>\n",
       "      <td>171</td>\n",
       "    </tr>\n",
       "    <tr>\n",
       "      <th>6</th>\n",
       "      <td>1993</td>\n",
       "      <td>360</td>\n",
       "      <td>1853</td>\n",
       "      <td>35</td>\n",
       "      <td>303</td>\n",
       "      <td>301</td>\n",
       "      <td>83</td>\n",
       "      <td>164</td>\n",
       "    </tr>\n",
       "    <tr>\n",
       "      <th>7</th>\n",
       "      <td>1994</td>\n",
       "      <td>338</td>\n",
       "      <td>1852</td>\n",
       "      <td>34</td>\n",
       "      <td>304</td>\n",
       "      <td>309</td>\n",
       "      <td>74</td>\n",
       "      <td>164</td>\n",
       "    </tr>\n",
       "    <tr>\n",
       "      <th>8</th>\n",
       "      <td>1995</td>\n",
       "      <td>313</td>\n",
       "      <td>1722</td>\n",
       "      <td>32</td>\n",
       "      <td>292</td>\n",
       "      <td>336</td>\n",
       "      <td>72</td>\n",
       "      <td>170</td>\n",
       "    </tr>\n",
       "    <tr>\n",
       "      <th>9</th>\n",
       "      <td>1996</td>\n",
       "      <td>299</td>\n",
       "      <td>1730</td>\n",
       "      <td>30</td>\n",
       "      <td>276</td>\n",
       "      <td>363</td>\n",
       "      <td>71</td>\n",
       "      <td>160</td>\n",
       "    </tr>\n",
       "  </tbody>\n",
       "</table>\n",
       "</div>"
      ],
      "text/plain": [
       "   Year  Number_Of_Locomotives_In_Use  Number_Of_Cars_In_Use  \\\n",
       "0  1975                           355                   1913   \n",
       "1  1980                           419                   2128   \n",
       "2  1985                           291                   1854   \n",
       "3  1990                           318                   1863   \n",
       "4  1991                           316                   1786   \n",
       "5  1992                           336                   1796   \n",
       "6  1993                           360                   1853   \n",
       "7  1994                           338                   1852   \n",
       "8  1995                           313                   1722   \n",
       "9  1996                           299                   1730   \n",
       "\n",
       "   Million_Miles_Traveled_By_Train  Million_Miles_Traveled_By_Car  \\\n",
       "0                               30                            253   \n",
       "1                               30                            235   \n",
       "2                               30                            251   \n",
       "3                               33                            301   \n",
       "4                               34                            313   \n",
       "5                               34                            307   \n",
       "6                               35                            303   \n",
       "7                               34                            304   \n",
       "8                               32                            292   \n",
       "9                               30                            276   \n",
       "\n",
       "   Electric_Energy_Consumption_By_Train_In_Million_Kilowatthours  \\\n",
       "0                                                180               \n",
       "1                                                254               \n",
       "2                                                295               \n",
       "3                                                330               \n",
       "4                                                303               \n",
       "5                                                300               \n",
       "6                                                301               \n",
       "7                                                309               \n",
       "8                                                336               \n",
       "9                                                363               \n",
       "\n",
       "   Diesel_Energy_Consumption_By_Train_In_Million_Gallons  \\\n",
       "0                                                 63       \n",
       "1                                                 64       \n",
       "2                                                 65       \n",
       "3                                                 82       \n",
       "4                                                 82       \n",
       "5                                                 82       \n",
       "6                                                 83       \n",
       "7                                                 74       \n",
       "8                                                 72       \n",
       "9                                                 71       \n",
       "\n",
       "   Average_Miles_Traveled_Per_Car_In_Thousands  \n",
       "0                                          132  \n",
       "1                                          110  \n",
       "2                                          135  \n",
       "3                                          162  \n",
       "4                                          175  \n",
       "5                                          171  \n",
       "6                                          164  \n",
       "7                                          164  \n",
       "8                                          170  \n",
       "9                                          160  "
      ]
     },
     "execution_count": 145,
     "metadata": {},
     "output_type": "execute_result"
    }
   ],
   "source": [
    "vehicles_df.head(10)"
   ]
  },
  {
   "cell_type": "code",
   "execution_count": 146,
   "metadata": {},
   "outputs": [
    {
     "name": "stdout",
     "output_type": "stream",
     "text": [
      "['Year' 'Number_Of_Locomotives_In_Use' 'Number_Of_Cars_In_Use'\n",
      " 'Million_Miles_Traveled_By_Train' 'Million_Miles_Traveled_By_Car'\n",
      " 'Electric_Energy_Consumption_By_Train_In_Million_Kilowatthours'\n",
      " 'Diesel_Energy_Consumption_By_Train_In_Million_Gallons'\n",
      " 'Average_Miles_Traveled_Per_Car_In_Thousands']\n"
     ]
    }
   ],
   "source": [
    "print(vehicles_df.columns.values)"
   ]
  },
  {
   "cell_type": "markdown",
   "metadata": {},
   "source": [
    "## Missing Value"
   ]
  },
  {
   "cell_type": "code",
   "execution_count": 147,
   "metadata": {},
   "outputs": [
    {
     "name": "stdout",
     "output_type": "stream",
     "text": [
      "null values: \n",
      "\n",
      "     Year  Number_Of_Locomotives_In_Use  Number_Of_Cars_In_Use  \\\n",
      "0   False                         False                  False   \n",
      "1   False                         False                  False   \n",
      "2   False                         False                  False   \n",
      "3   False                         False                  False   \n",
      "4   False                         False                  False   \n",
      "5   False                         False                  False   \n",
      "6   False                         False                  False   \n",
      "7   False                         False                  False   \n",
      "8   False                         False                  False   \n",
      "9   False                         False                  False   \n",
      "10  False                         False                  False   \n",
      "11  False                         False                  False   \n",
      "12  False                         False                  False   \n",
      "13  False                         False                  False   \n",
      "14  False                         False                  False   \n",
      "15  False                         False                  False   \n",
      "16  False                         False                  False   \n",
      "17  False                         False                  False   \n",
      "18  False                         False                  False   \n",
      "19  False                         False                  False   \n",
      "20  False                         False                  False   \n",
      "21  False                         False                  False   \n",
      "22  False                         False                  False   \n",
      "23  False                         False                  False   \n",
      "24  False                         False                  False   \n",
      "25  False                         False                  False   \n",
      "26  False                         False                  False   \n",
      "27  False                         False                  False   \n",
      "28  False                         False                  False   \n",
      "29  False                         False                  False   \n",
      "30  False                         False                  False   \n",
      "31  False                         False                  False   \n",
      "32  False                         False                  False   \n",
      "\n",
      "    Million_Miles_Traveled_By_Train  Million_Miles_Traveled_By_Car  \\\n",
      "0                             False                          False   \n",
      "1                             False                          False   \n",
      "2                             False                          False   \n",
      "3                             False                          False   \n",
      "4                             False                          False   \n",
      "5                             False                          False   \n",
      "6                             False                          False   \n",
      "7                             False                          False   \n",
      "8                             False                          False   \n",
      "9                             False                          False   \n",
      "10                            False                          False   \n",
      "11                            False                          False   \n",
      "12                            False                          False   \n",
      "13                            False                          False   \n",
      "14                            False                          False   \n",
      "15                            False                          False   \n",
      "16                            False                          False   \n",
      "17                            False                          False   \n",
      "18                            False                          False   \n",
      "19                            False                          False   \n",
      "20                            False                          False   \n",
      "21                            False                          False   \n",
      "22                            False                          False   \n",
      "23                            False                          False   \n",
      "24                            False                          False   \n",
      "25                            False                          False   \n",
      "26                            False                          False   \n",
      "27                            False                          False   \n",
      "28                            False                          False   \n",
      "29                            False                          False   \n",
      "30                            False                          False   \n",
      "31                            False                          False   \n",
      "32                            False                          False   \n",
      "\n",
      "    Electric_Energy_Consumption_By_Train_In_Million_Kilowatthours  \\\n",
      "0                                               False               \n",
      "1                                               False               \n",
      "2                                               False               \n",
      "3                                               False               \n",
      "4                                               False               \n",
      "5                                               False               \n",
      "6                                               False               \n",
      "7                                               False               \n",
      "8                                               False               \n",
      "9                                               False               \n",
      "10                                              False               \n",
      "11                                              False               \n",
      "12                                              False               \n",
      "13                                              False               \n",
      "14                                              False               \n",
      "15                                              False               \n",
      "16                                              False               \n",
      "17                                              False               \n",
      "18                                              False               \n",
      "19                                              False               \n",
      "20                                              False               \n",
      "21                                              False               \n",
      "22                                              False               \n",
      "23                                              False               \n",
      "24                                              False               \n",
      "25                                              False               \n",
      "26                                              False               \n",
      "27                                              False               \n",
      "28                                              False               \n",
      "29                                              False               \n",
      "30                                              False               \n",
      "31                                              False               \n",
      "32                                              False               \n",
      "\n",
      "    Diesel_Energy_Consumption_By_Train_In_Million_Gallons  \\\n",
      "0                                               False       \n",
      "1                                               False       \n",
      "2                                               False       \n",
      "3                                               False       \n",
      "4                                               False       \n",
      "5                                               False       \n",
      "6                                               False       \n",
      "7                                               False       \n",
      "8                                               False       \n",
      "9                                               False       \n",
      "10                                              False       \n",
      "11                                              False       \n",
      "12                                              False       \n",
      "13                                              False       \n",
      "14                                              False       \n",
      "15                                              False       \n",
      "16                                              False       \n",
      "17                                              False       \n",
      "18                                              False       \n",
      "19                                              False       \n",
      "20                                              False       \n",
      "21                                              False       \n",
      "22                                              False       \n",
      "23                                              False       \n",
      "24                                              False       \n",
      "25                                              False       \n",
      "26                                              False       \n",
      "27                                              False       \n",
      "28                                              False       \n",
      "29                                              False       \n",
      "30                                              False       \n",
      "31                                              False       \n",
      "32                                              False       \n",
      "\n",
      "    Average_Miles_Traveled_Per_Car_In_Thousands  \n",
      "0                                         False  \n",
      "1                                         False  \n",
      "2                                         False  \n",
      "3                                         False  \n",
      "4                                         False  \n",
      "5                                         False  \n",
      "6                                         False  \n",
      "7                                         False  \n",
      "8                                         False  \n",
      "9                                         False  \n",
      "10                                        False  \n",
      "11                                        False  \n",
      "12                                        False  \n",
      "13                                        False  \n",
      "14                                        False  \n",
      "15                                        False  \n",
      "16                                        False  \n",
      "17                                        False  \n",
      "18                                        False  \n",
      "19                                        False  \n",
      "20                                        False  \n",
      "21                                        False  \n",
      "22                                        False  \n",
      "23                                        False  \n",
      "24                                        False  \n",
      "25                                        False  \n",
      "26                                        False  \n",
      "27                                        False  \n",
      "28                                        False  \n",
      "29                                        False  \n",
      "30                                        False  \n",
      "31                                        False  \n",
      "32                                        False  \n"
     ]
    }
   ],
   "source": [
    "print(\"null values: \\n\")\n",
    "print(vehicles_df.isna())"
   ]
  },
  {
   "cell_type": "code",
   "execution_count": 148,
   "metadata": {},
   "outputs": [
    {
     "name": "stdout",
     "output_type": "stream",
     "text": [
      "total null values:  0\n"
     ]
    }
   ],
   "source": [
    "print(\"total null values: \", vehicles_df.isna().sum().sum())"
   ]
  },
  {
   "cell_type": "markdown",
   "metadata": {},
   "source": [
    "#### No missing data"
   ]
  },
  {
   "cell_type": "markdown",
   "metadata": {},
   "source": [
    "## Duplicate Data"
   ]
  },
  {
   "cell_type": "code",
   "execution_count": 149,
   "metadata": {},
   "outputs": [
    {
     "name": "stdout",
     "output_type": "stream",
     "text": [
      "number of duplicate rows:  (0, 8)\n"
     ]
    }
   ],
   "source": [
    "duplicate_rows_df = vehicles_df[vehicles_df.duplicated()]\n",
    "print(\"number of duplicate rows: \", duplicate_rows_df.shape)"
   ]
  },
  {
   "cell_type": "markdown",
   "metadata": {},
   "source": [
    "#### No duplicate data"
   ]
  },
  {
   "cell_type": "markdown",
   "metadata": {},
   "source": [
    "## Outliers"
   ]
  },
  {
   "cell_type": "code",
   "execution_count": 150,
   "metadata": {},
   "outputs": [
    {
     "data": {
      "text/html": [
       "<div>\n",
       "<style scoped>\n",
       "    .dataframe tbody tr th:only-of-type {\n",
       "        vertical-align: middle;\n",
       "    }\n",
       "\n",
       "    .dataframe tbody tr th {\n",
       "        vertical-align: top;\n",
       "    }\n",
       "\n",
       "    .dataframe thead th {\n",
       "        text-align: right;\n",
       "    }\n",
       "</style>\n",
       "<table border=\"1\" class=\"dataframe\">\n",
       "  <thead>\n",
       "    <tr style=\"text-align: right;\">\n",
       "      <th></th>\n",
       "      <th>Year</th>\n",
       "      <th>Number_Of_Locomotives_In_Use</th>\n",
       "      <th>Number_Of_Cars_In_Use</th>\n",
       "      <th>Million_Miles_Traveled_By_Train</th>\n",
       "      <th>Million_Miles_Traveled_By_Car</th>\n",
       "      <th>Electric_Energy_Consumption_By_Train_In_Million_Kilowatthours</th>\n",
       "      <th>Diesel_Energy_Consumption_By_Train_In_Million_Gallons</th>\n",
       "      <th>Average_Miles_Traveled_Per_Car_In_Thousands</th>\n",
       "    </tr>\n",
       "  </thead>\n",
       "  <tbody>\n",
       "    <tr>\n",
       "      <th>count</th>\n",
       "      <td>33.000000</td>\n",
       "      <td>33.000000</td>\n",
       "      <td>33.000000</td>\n",
       "      <td>33.000000</td>\n",
       "      <td>33.000000</td>\n",
       "      <td>33.000000</td>\n",
       "      <td>33.000000</td>\n",
       "      <td>33.000000</td>\n",
       "    </tr>\n",
       "    <tr>\n",
       "      <th>mean</th>\n",
       "      <td>2002.272727</td>\n",
       "      <td>352.393939</td>\n",
       "      <td>1648.575758</td>\n",
       "      <td>35.363636</td>\n",
       "      <td>301.696970</td>\n",
       "      <td>446.636364</td>\n",
       "      <td>70.848485</td>\n",
       "      <td>190.181818</td>\n",
       "    </tr>\n",
       "    <tr>\n",
       "      <th>std</th>\n",
       "      <td>11.088487</td>\n",
       "      <td>62.273058</td>\n",
       "      <td>381.060283</td>\n",
       "      <td>2.781840</td>\n",
       "      <td>34.501345</td>\n",
       "      <td>111.937990</td>\n",
       "      <td>9.931393</td>\n",
       "      <td>37.403588</td>\n",
       "    </tr>\n",
       "    <tr>\n",
       "      <th>min</th>\n",
       "      <td>1975.000000</td>\n",
       "      <td>258.000000</td>\n",
       "      <td>1164.000000</td>\n",
       "      <td>30.000000</td>\n",
       "      <td>235.000000</td>\n",
       "      <td>180.000000</td>\n",
       "      <td>60.000000</td>\n",
       "      <td>110.000000</td>\n",
       "    </tr>\n",
       "    <tr>\n",
       "      <th>25%</th>\n",
       "      <td>1995.000000</td>\n",
       "      <td>299.000000</td>\n",
       "      <td>1402.000000</td>\n",
       "      <td>34.000000</td>\n",
       "      <td>276.000000</td>\n",
       "      <td>336.000000</td>\n",
       "      <td>63.000000</td>\n",
       "      <td>164.000000</td>\n",
       "    </tr>\n",
       "    <tr>\n",
       "      <th>50%</th>\n",
       "      <td>2003.000000</td>\n",
       "      <td>338.000000</td>\n",
       "      <td>1722.000000</td>\n",
       "      <td>36.000000</td>\n",
       "      <td>303.000000</td>\n",
       "      <td>485.000000</td>\n",
       "      <td>66.000000</td>\n",
       "      <td>194.000000</td>\n",
       "    </tr>\n",
       "    <tr>\n",
       "      <th>75%</th>\n",
       "      <td>2011.000000</td>\n",
       "      <td>418.000000</td>\n",
       "      <td>1863.000000</td>\n",
       "      <td>38.000000</td>\n",
       "      <td>319.000000</td>\n",
       "      <td>537.000000</td>\n",
       "      <td>76.000000</td>\n",
       "      <td>225.000000</td>\n",
       "    </tr>\n",
       "    <tr>\n",
       "      <th>max</th>\n",
       "      <td>2019.000000</td>\n",
       "      <td>485.000000</td>\n",
       "      <td>2896.000000</td>\n",
       "      <td>38.000000</td>\n",
       "      <td>379.000000</td>\n",
       "      <td>582.000000</td>\n",
       "      <td>97.000000</td>\n",
       "      <td>255.000000</td>\n",
       "    </tr>\n",
       "  </tbody>\n",
       "</table>\n",
       "</div>"
      ],
      "text/plain": [
       "              Year  Number_Of_Locomotives_In_Use  Number_Of_Cars_In_Use  \\\n",
       "count    33.000000                     33.000000              33.000000   \n",
       "mean   2002.272727                    352.393939            1648.575758   \n",
       "std      11.088487                     62.273058             381.060283   \n",
       "min    1975.000000                    258.000000            1164.000000   \n",
       "25%    1995.000000                    299.000000            1402.000000   \n",
       "50%    2003.000000                    338.000000            1722.000000   \n",
       "75%    2011.000000                    418.000000            1863.000000   \n",
       "max    2019.000000                    485.000000            2896.000000   \n",
       "\n",
       "       Million_Miles_Traveled_By_Train  Million_Miles_Traveled_By_Car  \\\n",
       "count                        33.000000                      33.000000   \n",
       "mean                         35.363636                     301.696970   \n",
       "std                           2.781840                      34.501345   \n",
       "min                          30.000000                     235.000000   \n",
       "25%                          34.000000                     276.000000   \n",
       "50%                          36.000000                     303.000000   \n",
       "75%                          38.000000                     319.000000   \n",
       "max                          38.000000                     379.000000   \n",
       "\n",
       "       Electric_Energy_Consumption_By_Train_In_Million_Kilowatthours  \\\n",
       "count                                          33.000000               \n",
       "mean                                          446.636364               \n",
       "std                                           111.937990               \n",
       "min                                           180.000000               \n",
       "25%                                           336.000000               \n",
       "50%                                           485.000000               \n",
       "75%                                           537.000000               \n",
       "max                                           582.000000               \n",
       "\n",
       "       Diesel_Energy_Consumption_By_Train_In_Million_Gallons  \\\n",
       "count                                          33.000000       \n",
       "mean                                           70.848485       \n",
       "std                                             9.931393       \n",
       "min                                            60.000000       \n",
       "25%                                            63.000000       \n",
       "50%                                            66.000000       \n",
       "75%                                            76.000000       \n",
       "max                                            97.000000       \n",
       "\n",
       "       Average_Miles_Traveled_Per_Car_In_Thousands  \n",
       "count                                    33.000000  \n",
       "mean                                    190.181818  \n",
       "std                                      37.403588  \n",
       "min                                     110.000000  \n",
       "25%                                     164.000000  \n",
       "50%                                     194.000000  \n",
       "75%                                     225.000000  \n",
       "max                                     255.000000  "
      ]
     },
     "execution_count": 150,
     "metadata": {},
     "output_type": "execute_result"
    }
   ],
   "source": [
    "vehicles_df.describe()"
   ]
  },
  {
   "cell_type": "code",
   "execution_count": 151,
   "metadata": {},
   "outputs": [
    {
     "data": {
      "image/png": "[encoded data removed]",
      "text/plain": [
       "<Figure size 432x288 with 1 Axes>"
      ]
     },
     "metadata": {},
     "output_type": "display_data"
    }
   ],
   "source": [
    "sns.boxplot(x=vehicles_df['Number_Of_Cars_In_Use'], color='lime')\n",
    "plt.xlabel('No. of Cars in Use', fontsize=14)\n",
    "plt.show()"
   ]
  },
  {
   "cell_type": "code",
   "execution_count": 152,
   "metadata": {},
   "outputs": [],
   "source": [
    "vehicles_cleaned_df=vehicles_df[vehicles_df['Number_Of_Cars_In_Use']<2750]"
   ]
  },
  {
   "cell_type": "code",
   "execution_count": 153,
   "metadata": {},
   "outputs": [
    {
     "data": {
      "image/png": "[encoded data removed]",
      "text/plain": [
       "<Figure size 432x288 with 1 Axes>"
      ]
     },
     "metadata": {},
     "output_type": "display_data"
    }
   ],
   "source": [
    "sns.boxplot(x=vehicles_cleaned_df['Number_Of_Cars_In_Use'], color='lime')\n",
    "plt.xlabel('No. of Cars in Use', fontsize=14)\n",
    "plt.show()"
   ]
  },
  {
   "cell_type": "code",
   "execution_count": 154,
   "metadata": {},
   "outputs": [
    {
     "name": "stdout",
     "output_type": "stream",
     "text": [
      "(32, 8)\n"
     ]
    }
   ],
   "source": [
    "print(vehicles_cleaned_df.shape)"
   ]
  },
  {
   "cell_type": "markdown",
   "metadata": {},
   "source": [
    "# Examining Assumptions\n"
   ]
  },
  {
   "cell_type": "markdown",
   "metadata": {},
   "source": [
    "## Check Linearity with Scatterplot"
   ]
  },
  {
   "cell_type": "code",
   "execution_count": 155,
   "metadata": {},
   "outputs": [],
   "source": [
    "trains_df = vehicles_cleaned_df[['Year', \n",
    "    'Number_Of_Locomotives_In_Use', \n",
    "    'Million_Miles_Traveled_By_Train', \n",
    "    'Electric_Energy_Consumption_By_Train_In_Million_Kilowatthours',\n",
    "    'Diesel_Energy_Consumption_By_Train_In_Million_Gallons',]]"
   ]
  },
  {
   "cell_type": "code",
   "execution_count": 156,
   "metadata": {},
   "outputs": [
    {
     "data": {
      "text/html": [
       "<div>\n",
       "<style scoped>\n",
       "    .dataframe tbody tr th:only-of-type {\n",
       "        vertical-align: middle;\n",
       "    }\n",
       "\n",
       "    .dataframe tbody tr th {\n",
       "        vertical-align: top;\n",
       "    }\n",
       "\n",
       "    .dataframe thead th {\n",
       "        text-align: right;\n",
       "    }\n",
       "</style>\n",
       "<table border=\"1\" class=\"dataframe\">\n",
       "  <thead>\n",
       "    <tr style=\"text-align: right;\">\n",
       "      <th></th>\n",
       "      <th>Year</th>\n",
       "      <th>Number_Of_Locomotives_In_Use</th>\n",
       "      <th>Million_Miles_Traveled_By_Train</th>\n",
       "      <th>Electric_Energy_Consumption_By_Train_In_Million_Kilowatthours</th>\n",
       "      <th>Diesel_Energy_Consumption_By_Train_In_Million_Gallons</th>\n",
       "    </tr>\n",
       "  </thead>\n",
       "  <tbody>\n",
       "    <tr>\n",
       "      <th>0</th>\n",
       "      <td>1975</td>\n",
       "      <td>355</td>\n",
       "      <td>30</td>\n",
       "      <td>180</td>\n",
       "      <td>63</td>\n",
       "    </tr>\n",
       "    <tr>\n",
       "      <th>1</th>\n",
       "      <td>1980</td>\n",
       "      <td>419</td>\n",
       "      <td>30</td>\n",
       "      <td>254</td>\n",
       "      <td>64</td>\n",
       "    </tr>\n",
       "    <tr>\n",
       "      <th>2</th>\n",
       "      <td>1985</td>\n",
       "      <td>291</td>\n",
       "      <td>30</td>\n",
       "      <td>295</td>\n",
       "      <td>65</td>\n",
       "    </tr>\n",
       "    <tr>\n",
       "      <th>3</th>\n",
       "      <td>1990</td>\n",
       "      <td>318</td>\n",
       "      <td>33</td>\n",
       "      <td>330</td>\n",
       "      <td>82</td>\n",
       "    </tr>\n",
       "    <tr>\n",
       "      <th>4</th>\n",
       "      <td>1991</td>\n",
       "      <td>316</td>\n",
       "      <td>34</td>\n",
       "      <td>303</td>\n",
       "      <td>82</td>\n",
       "    </tr>\n",
       "    <tr>\n",
       "      <th>5</th>\n",
       "      <td>1992</td>\n",
       "      <td>336</td>\n",
       "      <td>34</td>\n",
       "      <td>300</td>\n",
       "      <td>82</td>\n",
       "    </tr>\n",
       "    <tr>\n",
       "      <th>6</th>\n",
       "      <td>1993</td>\n",
       "      <td>360</td>\n",
       "      <td>35</td>\n",
       "      <td>301</td>\n",
       "      <td>83</td>\n",
       "    </tr>\n",
       "    <tr>\n",
       "      <th>7</th>\n",
       "      <td>1994</td>\n",
       "      <td>338</td>\n",
       "      <td>34</td>\n",
       "      <td>309</td>\n",
       "      <td>74</td>\n",
       "    </tr>\n",
       "    <tr>\n",
       "      <th>8</th>\n",
       "      <td>1995</td>\n",
       "      <td>313</td>\n",
       "      <td>32</td>\n",
       "      <td>336</td>\n",
       "      <td>72</td>\n",
       "    </tr>\n",
       "    <tr>\n",
       "      <th>9</th>\n",
       "      <td>1996</td>\n",
       "      <td>299</td>\n",
       "      <td>30</td>\n",
       "      <td>363</td>\n",
       "      <td>71</td>\n",
       "    </tr>\n",
       "  </tbody>\n",
       "</table>\n",
       "</div>"
      ],
      "text/plain": [
       "   Year  Number_Of_Locomotives_In_Use  Million_Miles_Traveled_By_Train  \\\n",
       "0  1975                           355                               30   \n",
       "1  1980                           419                               30   \n",
       "2  1985                           291                               30   \n",
       "3  1990                           318                               33   \n",
       "4  1991                           316                               34   \n",
       "5  1992                           336                               34   \n",
       "6  1993                           360                               35   \n",
       "7  1994                           338                               34   \n",
       "8  1995                           313                               32   \n",
       "9  1996                           299                               30   \n",
       "\n",
       "   Electric_Energy_Consumption_By_Train_In_Million_Kilowatthours  \\\n",
       "0                                                180               \n",
       "1                                                254               \n",
       "2                                                295               \n",
       "3                                                330               \n",
       "4                                                303               \n",
       "5                                                300               \n",
       "6                                                301               \n",
       "7                                                309               \n",
       "8                                                336               \n",
       "9                                                363               \n",
       "\n",
       "   Diesel_Energy_Consumption_By_Train_In_Million_Gallons  \n",
       "0                                                 63      \n",
       "1                                                 64      \n",
       "2                                                 65      \n",
       "3                                                 82      \n",
       "4                                                 82      \n",
       "5                                                 82      \n",
       "6                                                 83      \n",
       "7                                                 74      \n",
       "8                                                 72      \n",
       "9                                                 71      "
      ]
     },
     "execution_count": 156,
     "metadata": {},
     "output_type": "execute_result"
    }
   ],
   "source": [
    "trains_df.head(10)"
   ]
  },
  {
   "cell_type": "code",
   "execution_count": 157,
   "metadata": {},
   "outputs": [
    {
     "data": {
      "image/png": "[encoded data removed]",
      "text/plain": [
       "<Figure size 1080x288 with 4 Axes>"
      ]
     },
     "metadata": {},
     "output_type": "display_data"
    }
   ],
   "source": [
    "f, (ax1, ax2, ax3, ax4, ax5, ax6) = plt.subplots(1, 4, sharey=True, figsize=(15,4))\n",
    "ax1.scatter(trains_df['Year'], trains_df['Diesel_Energy_Consumption_By_Train_In_Million_Gallons'])\n",
    "ax1.set_title('Year and Diesel Consumption')\n",
    "ax2.scatter(trains_df['Number_Of_Locomotives_In_Use'], trains_df['Diesel_Energy_Consumption_By_Train_In_Million_Gallons'])\n",
    "ax2.set_title('Number of Locomotives and Diesel Consumption')\n",
    "ax3.scatter(trains_df['Million_Miles_Traveled_By_Train'], trains_df['Diesel_Energy_Consumption_By_Train_In_Million_Gallons'])\n",
    "ax3.set_title('Million_Miles_Traveled_By_Train and Diesel Consumption')\n",
    "ax4.scatter(trains_df['Electric_Energy_Consumption_By_Train_In_Million_Kilowatthours'], trains_df['Diesel_Energy_Consumption_By_Train_In_Million_Gallons'])\n",
    "ax4.set_title('Electric Consumption and Diesel Consumption')\n",
    "\n",
    "plt.show()"
   ]
  },
  {
   "cell_type": "code",
   "execution_count": 158,
   "metadata": {},
   "outputs": [
    {
     "name": "stderr",
     "output_type": "stream",
     "text": [
      "/opt/anaconda3/lib/python3.8/site-packages/seaborn/distributions.py:2551: FutureWarning: `distplot` is a deprecated function and will be removed in a future version. Please adapt your code to use either `displot` (a figure-level function with similar flexibility) or `histplot` (an axes-level function for histograms).\n",
      "  warnings.warn(msg, FutureWarning)\n"
     ]
    },
    {
     "data": {
      "text/plain": [
       "<AxesSubplot:ylabel='Density'>"
      ]
     },
     "execution_count": 158,
     "metadata": {},
     "output_type": "execute_result"
    },
    {
     "data": {
      "image/png": "[encoded data removed]",
      "text/plain": [
       "<Figure size 432x288 with 1 Axes>"
      ]
     },
     "metadata": {},
     "output_type": "display_data"
    }
   ],
   "source": [
    "sns.distplot(trains_df[['Diesel_Energy_Consumption_By_Train_In_Million_Gallons']])"
   ]
  },
  {
   "cell_type": "markdown",
   "metadata": {},
   "source": [
    "## Multicolinearity"
   ]
  },
  {
   "cell_type": "code",
   "execution_count": 180,
   "metadata": {},
   "outputs": [],
   "source": [
    "from statsmodels.stats.outliers_influence import variance_inflation_factor\n",
    "variables = trains_df[['Year', \n",
    "    'Number_Of_Locomotives_In_Use', \n",
    "    'Million_Miles_Traveled_By_Train',\n",
    "    'Electric_Energy_Consumption_By_Train_In_Million_Kilowatthours']]\n",
    "vif = pd.DataFrame()\n",
    "\n",
    "vif['VIF'] = [variance_inflation_factor(variables.values, i) for i in range(variables.shape[1])]\n",
    "vif['Features'] = variables.columns"
   ]
  },
  {
   "cell_type": "code",
   "execution_count": 181,
   "metadata": {},
   "outputs": [
    {
     "data": {
      "text/html": [
       "<div>\n",
       "<style scoped>\n",
       "    .dataframe tbody tr th:only-of-type {\n",
       "        vertical-align: middle;\n",
       "    }\n",
       "\n",
       "    .dataframe tbody tr th {\n",
       "        vertical-align: top;\n",
       "    }\n",
       "\n",
       "    .dataframe thead th {\n",
       "        text-align: right;\n",
       "    }\n",
       "</style>\n",
       "<table border=\"1\" class=\"dataframe\">\n",
       "  <thead>\n",
       "    <tr style=\"text-align: right;\">\n",
       "      <th></th>\n",
       "      <th>VIF</th>\n",
       "      <th>Features</th>\n",
       "    </tr>\n",
       "  </thead>\n",
       "  <tbody>\n",
       "    <tr>\n",
       "      <th>0</th>\n",
       "      <td>382.292028</td>\n",
       "      <td>Year</td>\n",
       "    </tr>\n",
       "    <tr>\n",
       "      <th>1</th>\n",
       "      <td>42.990238</td>\n",
       "      <td>Number_Of_Locomotives_In_Use</td>\n",
       "    </tr>\n",
       "    <tr>\n",
       "      <th>2</th>\n",
       "      <td>802.055195</td>\n",
       "      <td>Million_Miles_Traveled_By_Train</td>\n",
       "    </tr>\n",
       "    <tr>\n",
       "      <th>3</th>\n",
       "      <td>69.867078</td>\n",
       "      <td>Electric_Energy_Consumption_By_Train_In_Millio...</td>\n",
       "    </tr>\n",
       "  </tbody>\n",
       "</table>\n",
       "</div>"
      ],
      "text/plain": [
       "          VIF                                           Features\n",
       "0  382.292028                                               Year\n",
       "1   42.990238                       Number_Of_Locomotives_In_Use\n",
       "2  802.055195                    Million_Miles_Traveled_By_Train\n",
       "3   69.867078  Electric_Energy_Consumption_By_Train_In_Millio..."
      ]
     },
     "execution_count": 181,
     "metadata": {},
     "output_type": "execute_result"
    }
   ],
   "source": [
    "vif"
   ]
  },
  {
   "cell_type": "markdown",
   "metadata": {},
   "source": [
    "from statsmodels.stats.outliers_influence import variance_inflation_factor\n",
    "variables = trains_df[['Number_Of_Locomotives_In_Use', \n",
    "    'Electric_Energy_Consumption_By_Train_In_Million_Kilowatthours']]\n",
    "vif = pd.DataFrame()\n",
    "\n",
    "vif['VIF'] = [variance_inflation_factor(variables.values, i) for i in range(variables.shape[1])]\n",
    "vif['Features'] = variables.columns"
   ]
  },
  {
   "cell_type": "markdown",
   "metadata": {},
   "source": [
    "vif"
   ]
  },
  {
   "cell_type": "code",
   "execution_count": 222,
   "metadata": {},
   "outputs": [],
   "source": [
    "data_no_multi = trains_df.drop(['Year'],axis=1)\n",
    "# data_no_multi = data_no_multi.drop(['Million_Miles_Traveled_By_Train'],axis=1)"
   ]
  },
  {
   "cell_type": "code",
   "execution_count": 223,
   "metadata": {},
   "outputs": [
    {
     "data": {
      "text/html": [
       "<div>\n",
       "<style scoped>\n",
       "    .dataframe tbody tr th:only-of-type {\n",
       "        vertical-align: middle;\n",
       "    }\n",
       "\n",
       "    .dataframe tbody tr th {\n",
       "        vertical-align: top;\n",
       "    }\n",
       "\n",
       "    .dataframe thead th {\n",
       "        text-align: right;\n",
       "    }\n",
       "</style>\n",
       "<table border=\"1\" class=\"dataframe\">\n",
       "  <thead>\n",
       "    <tr style=\"text-align: right;\">\n",
       "      <th></th>\n",
       "      <th>Number_Of_Locomotives_In_Use</th>\n",
       "      <th>Million_Miles_Traveled_By_Train</th>\n",
       "      <th>Electric_Energy_Consumption_By_Train_In_Million_Kilowatthours</th>\n",
       "      <th>Diesel_Energy_Consumption_By_Train_In_Million_Gallons</th>\n",
       "    </tr>\n",
       "  </thead>\n",
       "  <tbody>\n",
       "    <tr>\n",
       "      <th>0</th>\n",
       "      <td>355</td>\n",
       "      <td>30</td>\n",
       "      <td>180</td>\n",
       "      <td>63</td>\n",
       "    </tr>\n",
       "    <tr>\n",
       "      <th>1</th>\n",
       "      <td>419</td>\n",
       "      <td>30</td>\n",
       "      <td>254</td>\n",
       "      <td>64</td>\n",
       "    </tr>\n",
       "    <tr>\n",
       "      <th>2</th>\n",
       "      <td>291</td>\n",
       "      <td>30</td>\n",
       "      <td>295</td>\n",
       "      <td>65</td>\n",
       "    </tr>\n",
       "    <tr>\n",
       "      <th>3</th>\n",
       "      <td>318</td>\n",
       "      <td>33</td>\n",
       "      <td>330</td>\n",
       "      <td>82</td>\n",
       "    </tr>\n",
       "    <tr>\n",
       "      <th>4</th>\n",
       "      <td>316</td>\n",
       "      <td>34</td>\n",
       "      <td>303</td>\n",
       "      <td>82</td>\n",
       "    </tr>\n",
       "  </tbody>\n",
       "</table>\n",
       "</div>"
      ],
      "text/plain": [
       "   Number_Of_Locomotives_In_Use  Million_Miles_Traveled_By_Train  \\\n",
       "0                           355                               30   \n",
       "1                           419                               30   \n",
       "2                           291                               30   \n",
       "3                           318                               33   \n",
       "4                           316                               34   \n",
       "\n",
       "   Electric_Energy_Consumption_By_Train_In_Million_Kilowatthours  \\\n",
       "0                                                180               \n",
       "1                                                254               \n",
       "2                                                295               \n",
       "3                                                330               \n",
       "4                                                303               \n",
       "\n",
       "   Diesel_Energy_Consumption_By_Train_In_Million_Gallons  \n",
       "0                                                 63      \n",
       "1                                                 64      \n",
       "2                                                 65      \n",
       "3                                                 82      \n",
       "4                                                 82      "
      ]
     },
     "execution_count": 223,
     "metadata": {},
     "output_type": "execute_result"
    }
   ],
   "source": [
    "data_no_multi.head()"
   ]
  },
  {
   "cell_type": "markdown",
   "metadata": {},
   "source": [
    "## Linear Regression Model"
   ]
  },
  {
   "cell_type": "markdown",
   "metadata": {},
   "source": [
    "### Declare input and target"
   ]
  },
  {
   "cell_type": "code",
   "execution_count": 224,
   "metadata": {},
   "outputs": [],
   "source": [
    "targets = data_no_multi['Diesel_Energy_Consumption_By_Train_In_Million_Gallons']\n",
    "inputs = data_no_multi.drop(['Diesel_Energy_Consumption_By_Train_In_Million_Gallons'], axis=1)"
   ]
  },
  {
   "cell_type": "markdown",
   "metadata": {},
   "source": [
    "### Scale the data"
   ]
  },
  {
   "cell_type": "code",
   "execution_count": 225,
   "metadata": {},
   "outputs": [
    {
     "data": {
      "text/plain": [
       "StandardScaler()"
      ]
     },
     "execution_count": 225,
     "metadata": {},
     "output_type": "execute_result"
    }
   ],
   "source": [
    "from sklearn.preprocessing import StandardScaler\n",
    "scaler = StandardScaler()\n",
    "scaler.fit(inputs)"
   ]
  },
  {
   "cell_type": "code",
   "execution_count": 226,
   "metadata": {},
   "outputs": [],
   "source": [
    "inputs_scaled = scaler.transform(inputs)"
   ]
  },
  {
   "cell_type": "code",
   "execution_count": 227,
   "metadata": {},
   "outputs": [
    {
     "data": {
      "text/plain": [
       "array([[ 0.05177044, -1.92655935, -2.37770105],\n",
       "       [ 1.08114767, -1.92655935, -1.71224826],\n",
       "       [-0.97760679, -1.92655935, -1.34355144],\n",
       "       [-0.54333827, -0.83218244, -1.02881025],\n",
       "       [-0.57550631, -0.46739014, -1.2716106 ],\n",
       "       [-0.25382593, -0.46739014, -1.29858841],\n",
       "       [ 0.13219053, -0.10259784, -1.28959581],\n",
       "       [-0.22165789, -0.46739014, -1.21765497],\n",
       "       [-0.62375837, -1.19697474, -0.97485462],\n",
       "       [-0.84893464, -1.92655935, -0.73205428],\n",
       "       [-0.318162  , -1.19697474, -0.48925393],\n",
       "       [-0.10906976, -0.83218244, -0.2554462 ],\n",
       "       [-0.36641406, -0.46739014, -0.01264585],\n",
       "       [ 0.42170288, -0.10259784,  0.23015449],\n",
       "       [ 0.79163532,  0.26219447,  0.10425802],\n",
       "       [ 1.45108011,  0.62698677,  0.83265905],\n",
       "       [-1.21886708,  0.62698677,  0.95855552],\n",
       "       [-1.50837943,  0.26219447,  0.77870342],\n",
       "       [-0.52725425,  0.26219447,  0.94057031],\n",
       "       [-1.3153712 ,  0.62698677,  1.20135587],\n",
       "       [-1.18669904,  0.99177907,  1.23732629],\n",
       "       [-1.25103512,  0.99177907,  1.084452  ],\n",
       "       [-1.12236296,  0.62698677,  1.03049637],\n",
       "       [-1.04194287,  0.62698677,  0.99452595],\n",
       "       [ 2.14269293,  0.99177907,  0.94057031],\n",
       "       [ 1.06506365,  0.99177907,  0.72474779],\n",
       "       [ 1.22590384,  0.99177907,  0.63482173],\n",
       "       [ 1.14548374,  0.99177907,  0.53590307],\n",
       "       [ 1.32240795,  0.99177907,  0.64381434],\n",
       "       [ 1.08114767,  0.99177907,  0.4100066 ],\n",
       "       [ 1.2741559 ,  0.99177907,  0.36504357],\n",
       "       [ 0.82380336,  0.99177907,  0.35605097]])"
      ]
     },
     "execution_count": 227,
     "metadata": {},
     "output_type": "execute_result"
    }
   ],
   "source": [
    "inputs_scaled"
   ]
  },
  {
   "cell_type": "markdown",
   "metadata": {},
   "source": [
    "## Train Test Split"
   ]
  },
  {
   "cell_type": "code",
   "execution_count": 228,
   "metadata": {},
   "outputs": [],
   "source": [
    "from sklearn.model_selection import train_test_split\n",
    "\n",
    "x_train, x_test, y_train, y_test = train_test_split(inputs_scaled, targets, test_size=0.2, random_state=365)"
   ]
  },
  {
   "cell_type": "markdown",
   "metadata": {},
   "source": [
    "## Create the Regression"
   ]
  },
  {
   "cell_type": "code",
   "execution_count": 229,
   "metadata": {},
   "outputs": [],
   "source": [
    "from sklearn.linear_model import LinearRegression"
   ]
  },
  {
   "cell_type": "code",
   "execution_count": 230,
   "metadata": {},
   "outputs": [
    {
     "data": {
      "text/plain": [
       "LinearRegression()"
      ]
     },
     "execution_count": 230,
     "metadata": {},
     "output_type": "execute_result"
    }
   ],
   "source": [
    "reg = LinearRegression()\n",
    "\n",
    "reg.fit(x_train, y_train)"
   ]
  },
  {
   "cell_type": "code",
   "execution_count": 231,
   "metadata": {},
   "outputs": [],
   "source": [
    "y_hat = reg.predict(x_train)"
   ]
  },
  {
   "cell_type": "code",
   "execution_count": 232,
   "metadata": {},
   "outputs": [
    {
     "data": {
      "image/png": "[encoded data removed]",
      "text/plain": [
       "<Figure size 432x288 with 1 Axes>"
      ]
     },
     "metadata": {},
     "output_type": "display_data"
    }
   ],
   "source": [
    "plt.scatter(y_train, y_hat)\n",
    "plt.xlabel('Target (y_train)', size=18)\n",
    "plt.ylabel('Predictions (y_hat)', size=18)\n",
    "plt.show()"
   ]
  },
  {
   "cell_type": "code",
   "execution_count": 233,
   "metadata": {},
   "outputs": [
    {
     "name": "stderr",
     "output_type": "stream",
     "text": [
      "/opt/anaconda3/lib/python3.8/site-packages/seaborn/distributions.py:2551: FutureWarning: `distplot` is a deprecated function and will be removed in a future version. Please adapt your code to use either `displot` (a figure-level function with similar flexibility) or `histplot` (an axes-level function for histograms).\n",
      "  warnings.warn(msg, FutureWarning)\n"
     ]
    },
    {
     "data": {
      "text/plain": [
       "Text(0.5, 1.0, 'Residuals PDF')"
      ]
     },
     "execution_count": 233,
     "metadata": {},
     "output_type": "execute_result"
    },
    {
     "data": {
      "image/png": "[encoded data removed]",
      "text/plain": [
       "<Figure size 432x288 with 1 Axes>"
      ]
     },
     "metadata": {},
     "output_type": "display_data"
    }
   ],
   "source": [
    "sns.distplot(y_train - y_hat)\n",
    "plt.title(\"Residuals PDF\", size=18)"
   ]
  },
  {
   "cell_type": "code",
   "execution_count": 234,
   "metadata": {},
   "outputs": [
    {
     "data": {
      "text/plain": [
       "0.272738877115168"
      ]
     },
     "execution_count": 234,
     "metadata": {},
     "output_type": "execute_result"
    }
   ],
   "source": [
    "reg.score(x_train, y_train)"
   ]
  },
  {
   "cell_type": "code",
   "execution_count": 235,
   "metadata": {},
   "outputs": [
    {
     "data": {
      "text/plain": [
       "42.057801640879"
      ]
     },
     "execution_count": 235,
     "metadata": {},
     "output_type": "execute_result"
    }
   ],
   "source": [
    "from sklearn.metrics import mean_squared_error\n",
    "reg_mse = mean_squared_error(y_train,y_hat)\n",
    "reg_mse"
   ]
  },
  {
   "cell_type": "code",
   "execution_count": 236,
   "metadata": {},
   "outputs": [
    {
     "data": {
      "text/plain": [
       "6.485198658551564"
      ]
     },
     "execution_count": 236,
     "metadata": {},
     "output_type": "execute_result"
    }
   ],
   "source": [
    "reg_mrse = np.sqrt(reg_mse)\n",
    "reg_mrse"
   ]
  },
  {
   "cell_type": "code",
   "execution_count": 237,
   "metadata": {},
   "outputs": [
    {
     "data": {
      "text/plain": [
       "5.479837423089877"
      ]
     },
     "execution_count": 237,
     "metadata": {},
     "output_type": "execute_result"
    }
   ],
   "source": [
    "from sklearn.metrics import mean_absolute_error\n",
    "reg_mae = mean_absolute_error(y_train, y_hat)\n",
    "reg_mae"
   ]
  },
  {
   "cell_type": "code",
   "execution_count": null,
   "metadata": {},
   "outputs": [],
   "source": []
  }
 ],
 "metadata": {
  "kernelspec": {
   "display_name": "Python 3 (ipykernel)",
   "language": "python",
   "name": "python3"
  },
  "language_info": {
   "codemirror_mode": {
    "name": "ipython",
    "version": 3
   },
   "file_extension": ".py",
   "mimetype": "text/x-python",
   "name": "python",
   "nbconvert_exporter": "python",
   "pygments_lexer": "ipython3",
   "version": "3.9.7"
  }
 },
 "nbformat": 4,
 "nbformat_minor": 4
}
